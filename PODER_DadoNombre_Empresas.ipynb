{
 "cells": [
  {
   "cell_type": "code",
   "execution_count": 1,
   "metadata": {},
   "outputs": [],
   "source": [
    "import requests"
   ]
  },
  {
   "cell_type": "code",
   "execution_count": null,
   "metadata": {},
   "outputs": [],
   "source": [
    "def "
   ]
  },
  {
   "cell_type": "code",
   "execution_count": 41,
   "metadata": {},
   "outputs": [],
   "source": [
    "def quienes_person(first_name, last_name, page_size = 100, offset = 0):\n",
    "    q = \"first_name=\"+ first_name + \"&limit=100&offset=\" + str(offset)\n",
    "    return requests.get(\"https://api.quienesquien.wiki/v1/persons?\"+q).json()\n",
    "    "
   ]
  },
  {
   "cell_type": "code",
   "execution_count": 42,
   "metadata": {},
   "outputs": [
    {
     "data": {
      "text/plain": [
       "{'data': [{'_id': '6TWwuhgcSCM2JAinh',\n",
       "   'family_name': 'Figueroa Alcorta',\n",
       "   'first_name': 'José',\n",
       "   'imageUrl': 'http://www.tribelectoraljujuy.gov.ar/imagenes/Archivo%20Historico/Presidentes/53.jpg',\n",
       "   'lastModified': '2017-10-06T23:53:49.008Z',\n",
       "   'name': 'José Figueroa Alcorta',\n",
       "   'names': ['José Figueroa Alcorta'],\n",
       "   'simple': 'jose figueroa alcorta',\n",
       "   'source': 'cargografias:argentina',\n",
       "   'user_id': 'FBa3LotrKp62JTGcW'},\n",
       "  {'_id': '9pq3C2DK5xqfnLDNC',\n",
       "   'family_name': 'Martorell Canals',\n",
       "   'first_name': 'José',\n",
       "   'gender': 'Male',\n",
       "   'lastModified': '2017-10-06T23:59:31.506Z',\n",
       "   'name': 'José Martorell Canals',\n",
       "   'names': ['José Martorell Canals'],\n",
       "   'simple': 'jose martorell canals',\n",
       "   'source': 'cargografias:argentina',\n",
       "   'user_id': 'FBa3LotrKp62JTGcW'},\n",
       "  {'_id': 'EsH7cboAWEfWWFKqR',\n",
       "   'family_name': 'Guerrico',\n",
       "   'first_name': 'José',\n",
       "   'lastModified': '2017-10-06T23:57:34.287Z',\n",
       "   'name': 'José Guerrico',\n",
       "   'names': ['José Guerrico'],\n",
       "   'simple': 'jose guerrico',\n",
       "   'source': 'cargografias:argentina',\n",
       "   'user_id': 'FBa3LotrKp62JTGcW'},\n",
       "  {'_id': 'RR4jh78cZ5soPte6u',\n",
       "   'family_name': 'Rodríguez',\n",
       "   'first_name': 'José',\n",
       "   'lastModified': '2017-10-07T00:02:09.177Z',\n",
       "   'name': 'José Rodríguez',\n",
       "   'names': ['José Rodríguez'],\n",
       "   'simple': 'jose rodriguez',\n",
       "   'source': 'cargografias:argentina',\n",
       "   'user_id': 'FBa3LotrKp62JTGcW'},\n",
       "  {'_id': 'T3qdzXjvPkgkDpnip',\n",
       "   'family_name': 'Embrioni',\n",
       "   'first_name': 'José',\n",
       "   'lastModified': '2017-10-06T23:52:04.512Z',\n",
       "   'name': 'José Embrioni',\n",
       "   'names': ['José Embrioni'],\n",
       "   'simple': 'jose embrioni',\n",
       "   'source': 'cargografias:argentina',\n",
       "   'user_id': 'FBa3LotrKp62JTGcW'},\n",
       "  {'_id': 'YdugTRLE7HXGGgzyR',\n",
       "   'family_name': 'Costarelli',\n",
       "   'first_name': 'José',\n",
       "   'lastModified': '2017-10-06T23:52:55.420Z',\n",
       "   'name': 'José Costarelli',\n",
       "   'names': ['José Costarelli'],\n",
       "   'simple': 'jose costarelli',\n",
       "   'source': 'cargografias:argentina',\n",
       "   'user_id': 'FBa3LotrKp62JTGcW'},\n",
       "  {'_id': 'e8axpfH2Q4X75MjXY',\n",
       "   'family_name': 'Martínez',\n",
       "   'first_name': 'José',\n",
       "   'lastModified': '2017-10-06T23:59:23.549Z',\n",
       "   'name': 'José Martínez',\n",
       "   'names': ['José Martínez'],\n",
       "   'simple': 'jose martinez',\n",
       "   'source': 'cargografias:argentina',\n",
       "   'user_id': 'FBa3LotrKp62JTGcW'},\n",
       "  {'_id': 'fSCcMArsj6iAxgrsW',\n",
       "   'family_name': 'López Rega',\n",
       "   'first_name': 'José',\n",
       "   'gender': 'Male',\n",
       "   'lastModified': '2017-10-06T23:58:49.166Z',\n",
       "   'name': 'José López Rega',\n",
       "   'names': ['José López Rega'],\n",
       "   'simple': 'jose lopez rega',\n",
       "   'source': 'cargografias:argentina',\n",
       "   'user_id': 'FBa3LotrKp62JTGcW'},\n",
       "  {'_id': 'krjoCGkKpyJNvciwJ',\n",
       "   'family_name': 'Genoud',\n",
       "   'first_name': 'José',\n",
       "   'lastModified': '2017-10-06T23:57:01.352Z',\n",
       "   'name': 'José Genoud',\n",
       "   'names': ['José Genoud'],\n",
       "   'simple': 'jose genoud',\n",
       "   'source': 'cargografias:argentina',\n",
       "   'user_id': 'FBa3LotrKp62JTGcW'},\n",
       "  {'_id': 'm8qkC9adXbgnxSZr8',\n",
       "   'family_name': 'Eseverri',\n",
       "   'first_name': 'José',\n",
       "   'lastModified': '2017-10-06T23:52:07.503Z',\n",
       "   'name': 'José Eseverri',\n",
       "   'names': ['José Eseverri'],\n",
       "   'simple': 'jose eseverri',\n",
       "   'source': 'cargografias:argentina',\n",
       "   'user_id': 'FBa3LotrKp62JTGcW'},\n",
       "  {'_id': 'ptzN8dxjbzYMWYtxp',\n",
       "   'family_name': 'Bielicki',\n",
       "   'first_name': 'José',\n",
       "   'lastModified': '2017-10-06T23:55:24.992Z',\n",
       "   'name': 'José Bielicki',\n",
       "   'names': ['José Bielicki'],\n",
       "   'simple': 'jose bielicki',\n",
       "   'source': 'cargografias:argentina',\n",
       "   'user_id': 'FBa3LotrKp62JTGcW'},\n",
       "  {'_id': 'qNootWjG4GdYuAnp4',\n",
       "   'family_name': 'Murúa',\n",
       "   'first_name': 'José',\n",
       "   'gender': 'Male',\n",
       "   'lastModified': '2017-10-07T00:00:21.995Z',\n",
       "   'name': 'José Murúa',\n",
       "   'names': ['José Murúa'],\n",
       "   'simple': 'jose murua',\n",
       "   'source': 'cargografias:argentina',\n",
       "   'user_id': 'FBa3LotrKp62JTGcW'},\n",
       "  {'_id': 'uukeY2rDt67bNL7G8',\n",
       "   'family_name': 'Karamarko',\n",
       "   'first_name': 'José',\n",
       "   'imageUrl': 'http://www.legischubut2.gov.ar/images/MCH/mini/Dip.Karamarko_Jose.JPG',\n",
       "   'lastModified': '2017-10-06T23:58:13.250Z',\n",
       "   'name': 'José Karamarko',\n",
       "   'names': ['José Karamarko'],\n",
       "   'simple': 'jose karamarko',\n",
       "   'source': 'cargografias:argentina',\n",
       "   'user_id': 'FBa3LotrKp62JTGcW'},\n",
       "  {'_id': 'v2Swqyw8ptcRRiB2A',\n",
       "   'family_name': 'Rondeau',\n",
       "   'first_name': 'José',\n",
       "   'imageUrl': 'http://www.tribelectoraljujuy.gov.ar/imagenes/Archivo%20Historico/Presidentes/13.jpg',\n",
       "   'lastModified': '2017-10-07T00:02:23.314Z',\n",
       "   'name': 'José Rondeau',\n",
       "   'names': ['José Rondeau'],\n",
       "   'simple': 'jose rondeau',\n",
       "   'source': 'cargografias:argentina',\n",
       "   'user_id': 'FBa3LotrKp62JTGcW'}],\n",
       " 'offset': 0,\n",
       " 'pages': 1,\n",
       " 'size': 14,\n",
       " 'status': 'success'}"
      ]
     },
     "execution_count": 42,
     "metadata": {},
     "output_type": "execute_result"
    }
   ],
   "source": [
    "quienes_person(\"José\", \"Figueroa Alcorta\")"
   ]
  },
  {
   "cell_type": "code",
   "execution_count": 45,
   "metadata": {},
   "outputs": [],
   "source": [
    "def get_quienes_persons(first_name, last_name):\n",
    "    first = quienes_person(first_name, last_name)\n",
    "    data = first[\"data\"]\n",
    "    for i in range(2,first[\"size\"]):\n",
    "        data = data + quienes_person(first_name, last_name, offset = i*100)[\"data\"]\n",
    "    return data"
   ]
  },
  {
   "cell_type": "code",
   "execution_count": 48,
   "metadata": {},
   "outputs": [],
   "source": [
    "def get_quienes_memberships(user_id):\n",
    "    return requests.get(\"https://api.quienesquien.wiki/v1/memberships?person_id=\"+user_id+ \"&limit=25&offset=0\")"
   ]
  },
  {
   "cell_type": "code",
   "execution_count": 47,
   "metadata": {},
   "outputs": [],
   "source": [
    "persons_borde = get_quienes_persons(\"José\", \"Figueroa Alcorta\")"
   ]
  },
  {
   "cell_type": "code",
   "execution_count": 49,
   "metadata": {},
   "outputs": [],
   "source": [
    "def get_poder_memberships(first_name, last_name):\n",
    "    persons = get_quienes_persons(first_name, last_name)\n",
    "    output = []\n",
    "    for person in persons:\n",
    "        output.append(get_quienes_memberships(person[\"user_id\"]))\n",
    "    return output"
   ]
  },
  {
   "cell_type": "code",
   "execution_count": null,
   "metadata": {},
   "outputs": [],
   "source": []
  }
 ],
 "metadata": {
  "kernelspec": {
   "display_name": "Python 3",
   "language": "python",
   "name": "python3"
  },
  "language_info": {
   "codemirror_mode": {
    "name": "ipython",
    "version": 3
   },
   "file_extension": ".py",
   "mimetype": "text/x-python",
   "name": "python",
   "nbconvert_exporter": "python",
   "pygments_lexer": "ipython3",
   "version": "3.6.3"
  }
 },
 "nbformat": 4,
 "nbformat_minor": 2
}
