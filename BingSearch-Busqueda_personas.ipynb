{
 "cells": [
  {
   "cell_type": "code",
   "execution_count": 4,
   "metadata": {
    "collapsed": true
   },
   "outputs": [],
   "source": [
    "from py_ms_cognitive import PyMsCognitiveWebSearch"
   ]
  },
  {
   "cell_type": "code",
   "execution_count": 13,
   "metadata": {
    "collapsed": true
   },
   "outputs": [],
   "source": [
    "search_term = \"boda jose antonio meade\""
   ]
  },
  {
   "cell_type": "code",
   "execution_count": 14,
   "metadata": {},
   "outputs": [],
   "source": [
    "api_key = \"api-key\""
   ]
  },
  {
   "cell_type": "code",
   "execution_count": 15,
   "metadata": {},
   "outputs": [],
   "source": [
    "search_service = PyMsCognitiveWebSearch(api_key, search_term, custom_params={\"mkt\": \"es-MX\"})"
   ]
  },
  {
   "cell_type": "code",
   "execution_count": 24,
   "metadata": {},
   "outputs": [],
   "source": [
    "results = search_service.search_all(quota=20, format='json')"
   ]
  },
  {
   "cell_type": "code",
   "execution_count": 30,
   "metadata": {},
   "outputs": [
    {
     "data": {
      "text/plain": [
       "'spain.shafaqna.com/ES/ES/2192703'"
      ]
     },
     "execution_count": 30,
     "metadata": {},
     "output_type": "execute_result"
    }
   ],
   "source": [
    "results[0].json[\"displayUrl\"]"
   ]
  },
  {
   "cell_type": "code",
   "execution_count": 41,
   "metadata": {
    "collapsed": true
   },
   "outputs": [],
   "source": [
    "def term_search(query, quota_lim=50):\n",
    "    search_service = PyMsCognitiveWebSearch(api_key, search_term, custom_params={\"mkt\": \"es-MX\"})\n",
    "    results = search_service.search_all(quota=quota_lim, format='json')\n",
    "    results_urls =[result.json[\"displayUrl\"] for result in results]\n",
    "    output = []\n",
    "    for result in results_urls:\n",
    "        if \"http\" not in result:\n",
    "            output.append(\"http://\"+ result)\n",
    "        else:\n",
    "            output.append(result)\n",
    "    return output"
   ]
  },
  {
   "cell_type": "code",
   "execution_count": 42,
   "metadata": {},
   "outputs": [],
   "source": [
    "meade_search = term_search(\"boda jose antonio meade\")"
   ]
  },
  {
   "cell_type": "code",
   "execution_count": 43,
   "metadata": {},
   "outputs": [],
   "source": [
    "import requests"
   ]
  },
  {
   "cell_type": "code",
   "execution_count": 36,
   "metadata": {},
   "outputs": [],
   "source": [
    "from bs4 import BeautifulSoup"
   ]
  },
  {
   "cell_type": "code",
   "execution_count": 102,
   "metadata": {},
   "outputs": [
    {
     "name": "stderr",
     "output_type": "stream",
     "text": [
      "/home/ricalanis/.local/lib/python3.6/site-packages/bs4/__init__.py:181: UserWarning: No parser was explicitly specified, so I'm using the best available HTML parser for this system (\"lxml\"). This usually isn't a problem, but if you run this code on another system, or in a different virtual environment, it may use a different parser and behave differently.\n",
      "\n",
      "The code that caused this warning is on line 193 of the file /usr/lib/python3.6/runpy.py. To get rid of this warning, change code that looks like this:\n",
      "\n",
      " BeautifulSoup(YOUR_MARKUP})\n",
      "\n",
      "to this:\n",
      "\n",
      " BeautifulSoup(YOUR_MARKUP, \"lxml\")\n",
      "\n",
      "  markup_type=markup_type))\n"
     ]
    }
   ],
   "source": [
    "page = BeautifulSoup(requests.get(meade_search[0]).content)"
   ]
  },
  {
   "cell_type": "code",
   "execution_count": 57,
   "metadata": {},
   "outputs": [],
   "source": [
    "import spacy"
   ]
  },
  {
   "cell_type": "code",
   "execution_count": 58,
   "metadata": {},
   "outputs": [],
   "source": [
    "nlp = spacy.load('es')"
   ]
  },
  {
   "cell_type": "code",
   "execution_count": 61,
   "metadata": {},
   "outputs": [],
   "source": [
    "doc = nlp(page.get_text(), disable=['parser'])"
   ]
  },
  {
   "cell_type": "code",
   "execution_count": 78,
   "metadata": {},
   "outputs": [],
   "source": [
    "people = []\n",
    "for ent in doc.ents:\n",
    "    if ent.label_ == \"PER\" and len(ent.text)>5 and len(ent.text)<15 and len(ent.text.split(\" \"))>1:\n",
    "        people.append(clean_string(ent.text))\n",
    "        "
   ]
  },
  {
   "cell_type": "code",
   "execution_count": 81,
   "metadata": {},
   "outputs": [
    {
     "data": {
      "text/plain": [
       "{'Carlos Salinas',\n",
       " 'David Martínez',\n",
       " 'Diego Luna',\n",
       " 'Dionisio Meade',\n",
       " 'Edward Snowden',\n",
       " 'Emilio Lozoya',\n",
       " 'Emilio Zebadúa',\n",
       " 'Eruviel Ávila',\n",
       " 'Felipe Nájera',\n",
       " 'Gómez Urrutia',\n",
       " 'Jorge Bravo',\n",
       " 'Luis Videgaray',\n",
       " 'Peña Nieto',\n",
       " 'Rafael Avante',\n",
       " 'Rodolfo Dávila',\n",
       " 'Rosario Robles',\n",
       " 'Vargas Llosa',\n",
       " 'Vargas Llosa ',\n",
       " 'Vicente Fox'}"
      ]
     },
     "execution_count": 81,
     "metadata": {},
     "output_type": "execute_result"
    }
   ],
   "source": [
    "set(people)"
   ]
  },
  {
   "cell_type": "code",
   "execution_count": 127,
   "metadata": {},
   "outputs": [],
   "source": [
    "import re\n",
    "\n",
    "def clean_string(string):\n",
    "    string = string.replace(\" \", \"CCCCCCA\")\n",
    "    cleanString = string.strip()\n",
    "    cleanString = re.sub('\\W+','', string )\n",
    "    cleanString = cleanString.replace(\"CCCCCCA\", \" \")\n",
    "    return cleanString"
   ]
  },
  {
   "cell_type": "code",
   "execution_count": 182,
   "metadata": {},
   "outputs": [],
   "source": [
    "def get_page_people(url):\n",
    "    text = BeautifulSoup(requests.get(url).content).text\n",
    "    doc = nlp(text, disable=['parser'])\n",
    "    people = []\n",
    "    for ent in doc.ents:\n",
    "        if ent.label_ == \"PER\" and len(ent.text)>5 and len(ent.text)<15 and len(ent.text.split(\" \"))==2:\n",
    "            people.append(clean_string(ent.text))\n",
    "    return list(set(people))"
   ]
  },
  {
   "cell_type": "code",
   "execution_count": 139,
   "metadata": {},
   "outputs": [],
   "source": [
    "events = [\"boda\", \"cumpleaños\", \"aniversario\", \"bautizo\"]"
   ]
  },
  {
   "cell_type": "code",
   "execution_count": 140,
   "metadata": {},
   "outputs": [
    {
     "name": "stdout",
     "output_type": "stream",
     "text": [
      "boda Jose Antonio Meade\n",
      "cumpleaños Jose Antonio Meade\n",
      "aniversario Jose Antonio Meade\n",
      "bautizo Jose Antonio Meade\n"
     ]
    }
   ],
   "source": [
    "events_urls = get_events_urls(\"Jose Antonio Meade\")"
   ]
  },
  {
   "cell_type": "code",
   "execution_count": 141,
   "metadata": {},
   "outputs": [],
   "source": [
    "def get_events_urls(person):\n",
    "    output = []\n",
    "    for event in events:\n",
    "        query = event + \" \" + person \n",
    "        print(query)\n",
    "        output = output + term_search(query, quota_lim=50)\n",
    "    return list(set(output))"
   ]
  },
  {
   "cell_type": "code",
   "execution_count": 180,
   "metadata": {},
   "outputs": [],
   "source": [
    "def person_network(person):\n",
    "    urls = get_events_urls(person)\n",
    "    output = []\n",
    "    #urls = urls[0:5]\n",
    "    for url in urls:\n",
    "        print(\"revisando\" + url)\n",
    "        page_people = get_page_people(url)\n",
    "        output = output + page_people\n",
    "        print(page_people)\n",
    "    return list(set(output))"
   ]
  },
  {
   "cell_type": "code",
   "execution_count": 183,
   "metadata": {},
   "outputs": [
    {
     "name": "stdout",
     "output_type": "stream",
     "text": [
      "boda Jose Antonio Meade\n",
      "cumpleaños Jose Antonio Meade\n",
      "aniversario Jose Antonio Meade\n",
      "bautizo Jose Antonio Meade\n",
      "revisandohttp://www.elhorizonte.mx/nacional/meade-rival-para-amlo/2024447\n"
     ]
    },
    {
     "name": "stderr",
     "output_type": "stream",
     "text": [
      "/home/ricalanis/.local/lib/python3.6/site-packages/bs4/__init__.py:181: UserWarning: No parser was explicitly specified, so I'm using the best available HTML parser for this system (\"lxml\"). This usually isn't a problem, but if you run this code on another system, or in a different virtual environment, it may use a different parser and behave differently.\n",
      "\n",
      "The code that caused this warning is on line 193 of the file /usr/lib/python3.6/runpy.py. To get rid of this warning, change code that looks like this:\n",
      "\n",
      " BeautifulSoup(YOUR_MARKUP})\n",
      "\n",
      "to this:\n",
      "\n",
      " BeautifulSoup(YOUR_MARKUP, \"lxml\")\n",
      "\n",
      "  markup_type=markup_type))\n"
     ]
    },
    {
     "name": "stdout",
     "output_type": "stream",
     "text": [
      "['López Obrador', 'Judith Castro']\n",
      "revisandohttps://www.unotv.com/noticias/portal/nacional/detalle/presentare...\n",
      "[]\n",
      "revisandohttps://politico.mx/central-electoral/elecciones-2018/bodas-gay...\n",
      "[]\n",
      "revisandohttps://www.msn.com/es-mx/recetas/noticias/josé-antonio-meade...\n",
      "[]\n",
      "revisandohttp://www.eluniversal.com.mx/columna/.../nacion/la-tornaboda-de-meade\n",
      "[]\n",
      "revisandohttp://www.sinembargo.mx/25-06-2017/3248172\n",
      "[]\n",
      "revisandohttp://expreso.com.mx/seccion/mexico/32382-jose-antonio-meade-impugna...\n",
      "[]\n",
      "revisandohttp://www.24-horas.mx/2018/02/27/jose-antonio-meade-celebra-49-anos...\n",
      "[]\n",
      "revisandohttps://www.msn.com/es-mx/video/noticias/anaya-es-más-peligroso...\n",
      "[]\n",
      "revisandohttp://www.eluniversal.com.mx/nacion/politica/meade-el-tapado-de-pena-nieto\n",
      "['Luis Videgaray', 'Papa Francisco', 'Peña Nieto', 'Ariel Winter', 'Miguel Layún', 'Kim Basinger', ' Pasar']\n",
      "revisandohttps://www.sdpnoticias.com/enelshow/television/2017/11/12/ven-a...\n",
      "[]\n",
      "revisandohttp://cadenapolitica.com/2017/06/26/la-boda-de-eruviel-reune-a-meade...\n",
      "['Ricardo Anaya', 'José Narro', ' Desarrollado', 'Eruviel Ávila', 'Laura Bozzo', 'Sergio Corona', 'Santa Mónica', 'Busca Morena', 'Ruiz Esparza', 'Gaby Rivero']\n",
      "revisandohttp://www.unionedomex.mx/articulo/2017/11/26/politica/jose-antonio-meade...\n",
      "[]\n",
      "revisandohttps://www.scoopnest.com/es/user/AristeguiOnline/...\n",
      "['Cinema Móvil', 'Lorenzo Meyer', 'Miguel Bonasso']\n",
      "revisandohttp://www.expreso.com.mx/seccion/hermosillo/30772-jose-antonio-meade-p...\n",
      "[]\n",
      "revisandohttp://www.vanityfair.mx/.../perfil-juana-cuevas-esposa-de-meade/23400\n",
      "[]\n",
      "revisandohttp://www.reforma.com/aplicaciones/articulo/default.aspx?Id=1333628&...\n",
      "[]\n",
      "revisandohttp://www.milenio.com/.../Termometro-Milenio-jose-antonio-meade-amlo...\n",
      "['Boletos ', 'Alec Baldwin', 'Cine Nombran', 'Rogelio Guerra', 'Rubén Anwar', 'Álvaro Cueva', 'Redacción Mty']\n",
      "revisandohttps://www.lineadecontraste.com/mariano-y-los-encargos-de-meade...\n",
      "['Hello Box', 'Framed Border', 'García de', 'Cutting Edge', 'Popup Theme', 'Jefe Diego', 'Dionisio Meade', 'La CAPAM', 'Default Theme']\n",
      "revisandohttp://noticieros.televisa.com/ultimas-noticias/nacional/2018-02-04/meade...\n",
      "['Ricardo Anaya', ' Seguir', 'Juana Cuevas', 'Salina Cruz', 'Mikel Arriola']\n",
      "revisandohttp://www.elnorte.com/aplicaciones/articulo/default.aspx?Id=1273672\n",
      "[]\n",
      "revisandohttp://www.periodicocentral.mx/2017/politica/item/19523-chidiac-logra-que...\n",
      "[' Modificación', ' Limitación', 'El Usuario', 'Las Cookies', 'Lucero Saldaña', 'José Chedraui', ' CENTRAL', 'Blanca Alcalá', 'Karen Meza', 'Enrique Doger', ' Cuando']\n",
      "revisandohttps://politicaalamexicana.jimdo.com/columnas/el-presidenciable...\n",
      "[' GUZMANV', 'ENRIQUE OCHOA', 'SE INSISTE', ' LEGITIMA', ' INTERES', 'CARLOS DE']\n",
      "revisandohttp://www.cunadegrillos.com/2018/01/...y-la-esposa-de-meade-y-la-de-del-mazo\n",
      "['Ricardo Anaya', 'Alejandro Peña', 'Peña Nieto', 'Paulina Peña', 'Juana Cuevas']\n",
      "revisandohttps://www.elsoldepuebla.com.mx/columna/los-amigos-de-meade-cruce...\n",
      "['Sol Sinaloa']\n",
      "revisandohttp://laprensademonclova.com/portal/2017/07/07/prepara-su-boda-37\n",
      "['Maru Arellano', 'Jane Seymour', 'Marcela Arizpe', 'Ajax Content', 'Estela García', 'Blanca López', 'Reply Cancel', 'February 25', ' ', 'BW_Localized ', 'Arexi Cavazos', 'Beatriz Arizpe', 'Marina Ruy']\n",
      "revisandohttp://www.reforma.com/aplicaciones/articulo/default.aspx?id=1271508&v=2\n",
      "[]\n",
      "revisandohttp://www.milenio.com/firmas/fernando_mejia_barquera/pena-meade-campanas...\n",
      "['Boletos ', 'Alec Baldwin', 'Cine Nombran', 'Rogelio Guerra', 'Rubén Anwar', 'Álvaro Cueva', 'Redacción Mty']\n",
      "revisandohttps://alternativo.mx/category/jose-antonio-meade\n",
      "['Efectúa SEDENA', 'Chávez Pozas', 'Germán Meneses', 'David Uriarte', 'Alberto Bazán']\n",
      "revisandohttp://www.pandaancha.mx/noticias/memes-del-fin-de-semana-meade-boda-real...\n",
      "[' Registro', 'Harman Kardon', 'Voz IP']\n",
      "revisandohttp://impacto.mx/nacional/jose-antonio-meade-celebra-49-anos-vividos-con...\n",
      "['José José', 'Ricardo Anaya', 'Aurelio Nuño', 'Peña Nieto', 'ENFACEBOOK ', 'Lucida Sans', 'Enrique Ochoa', 'Close Atacan', 'Miguel Márquez', 'Año Nuevo', 'Alfonso Romo']\n",
      "revisandohttps://www.debate.com.mx/mexico/EPN-celebra-su-septimo-aniversa...\n",
      "[]\n",
      "revisandohttp://www.mientrastantoenmexico.mx/del...los-invitados-la-boda-eruviel-avila\n",
      "['López Obrador', 'Ricardo Rocha', ' Mensaje', 'Ricardo Anaya5']\n",
      "revisandohttp://elfinanciero.com.mx/opinion/meade-el-hermano-priista.html\n",
      "['Drop Caps', 'Marco Adame', 'Javier Lozano', ' Copyright']\n",
      "revisandohttp://www.elexpreso.com.mx/seccion/mexico/32382-jose-antonio-meade...\n",
      "[]\n",
      "revisandohttps://www.sdpnoticias.com/nacional/2017/12/19/meade-no-es-ni...\n",
      "[]\n",
      "revisandohttp://www.proceso.com.mx/493640/meade-nuno-los-candidatos-pena\n",
      "['Felipe Nájera', 'Diego Luna', 'Aurelio Nuño', 'Eruviel Ávila', 'Meade y', 'Edward Snowden', 'Emilio Zebadúa', 'Santa Mónica', 'Carlos Salinas', 'David Martínez', 'Rafael Avante', 'Rosario Robles', 'Vargas Llosa', 'Gómez Urrutia', 'Jorge Bravo']\n",
      "revisandohttps://www.quien.com/tag/jose-antonio-meade\n",
      "['Justin Bieber', 'Gourmet Awards', 'Peña Nieto', 'Gaby Cuevas', 'Daniel Ovadía', 'Catalina Creel', 'Casa Síclo', 'Antonio Soto']\n",
      "revisandohttps://www.lanetanoticias.com/183829/aspirante-del-pri-presume...\n",
      "['Luis Miguel', 'Irving Sánchez', 'Gavar Ya', 'Van Rankin', 'Travieso Arce', 'Ordaz Campos', 'Natalia Téllez', 'Benito Juárez', 'referer ', 'Maru Dueñas', 'Esther Sánchez', 'Mikel Arriola', 'Esteban Ruiz']\n",
      "revisandohttp://www.e-consulta.com/.../nacion/...boda-de-barreiro-como-el-pelucagate\n",
      "['Denise Dresser', 'Ricardo Anaya', 'Eduardo Neri', ' Congreso', 'Peña Nieto', 'Rafael Bringas', 'Ricardo Rocha', 'Triángulo Rojo', 'Lord Ferrari', 'Martha Erika', 'Barbosa Huerta', 'Moreno Valle', 'Rogelio Guerra', 'Benito Juárez', 'Paola Migoya', 'Rosa Nava', 'Catalina Creel', 'Carlos Sánchez', 'Enrique Doger']\n",
      "revisandohttp://eldragonario.blogspot.com/2017/06/la-boda-de-eruviel-reune-meade...\n",
      "['Santiago Nieto', 'Emilio Lozoya', 'Aarón Varela', 'Ricardo Anaya']\n",
      "revisandohttps://expansion.mx/politica/2017/11/27/10-datos-indispensables...\n",
      "['Angela Merkel', 'Karime Macías', 'Gourmet Awards']\n",
      "revisandohttps://politico.mx/central-electoral/elecciones-2018/presidencial/...\n",
      "[]\n",
      "revisandohttp://www.cunadegrillos.com/2016/09/07/los-hijos-jose-antonio-meade\n",
      "['Ricardo Anaya', 'Alejandro Peña', 'Peña Nieto', 'Paulina Peña', 'Juana Cuevas', 'Pinos Teens', 'José Antonio', 'Dionisio Meade', 'José Ángel']\n",
      "revisandohttp://www.elhorizonte.mx/opinion/editorial/el-riesgo-real-de-meade/2033872\n",
      "['Peña Nieto', 'López Obrador']\n",
      "revisandohttps://www.lanetanoticias.com/189039/meade-y-videgaray-los-amigos...\n",
      "['Luis Videgaray', 'Sergio Sendel', 'Andrés Puentes', 'Iván Gómez', 'Gavar Ya', 'Peña Nieto', 'Lupita Jones', 'Gullit Peña', 'Abraham Zamora', 'referer ', 'Maru Dueñas', 'Rosa Gutiérrez', 'José Yunes', 'Van Rankin']\n",
      "revisandohttps://cronicadelpoder.com/2018/02/28/jose-antonio-meade-presenta...\n",
      "['Litho Formas', 'Napoleón Gómez']\n",
      "revisandohttp://www.eluniversalvideo.com.mx/video/nacion/2018/jose-antonio-meade...\n",
      "['Nelson Vargas', 'Enrique Krauze', 'Red Política', 'Vargas Llosa', 'Mexsi Bocu', 'El Gráfico']\n",
      "revisandohttps://twitter.com/aurelionuno\n",
      "['Ricardo Anaya', 'Aurelio Nuño', 'Premio Nobel', 'Viewing Tweets', 'Embed Tweet']\n",
      "revisandohttp://terceravia.mx/2017/11/una-vez-meade-las...ficticias-jose-antonio-meade\n",
      "['Vía Segura', 'Helvetica Neue', 'Open Sans', ' Página', 'Tercera Vía', 'Custom Styles', 'Vía Política']\n",
      "revisandohttp://www.monitor.mx/politica/jose-antonio-meade-suma-a-beltrones-y...\n",
      "['Ricardo Anaya', 'Dante Delgado', 'René Juárez', 'Manlio Fabio', 'Osorio Chong', 'Javier Nava', 'Damián Zepeda', 'Denise Maerker', 'José Antonio', 'Qué Importa']\n",
      "revisandohttp://www.proceso.com.mx/509671/meade-chapulin-encubridor\n",
      "['Luis Videgaray', 'Emilio Lozoya', 'Felipe Nájera', 'Diego Luna', 'Eruviel Ávila', 'Vicente Fox', 'Peña Nieto', 'Rodolfo Dávila', 'Edward Snowden', 'Emilio Zebadúa', 'Carlos Salinas', 'David Martínez', 'Rafael Avante', 'Rosario Robles', 'Dionisio Meade', 'Vargas Llosa', 'Gómez Urrutia', 'Jorge Bravo']\n",
      "revisandohttps://www.hola-atizapan.com/denuncian-ante-pgr-a-jose-antonio...\n",
      "['Delfina Gómez', 'Rosario Robles', ' HolaAtizapán', 'Atizapán Esto', 'Droid Sans', 'Nicolas Romero', 'Alfonso Romo', 'Samuel García', 'Estafa Maestra']\n",
      "revisandohttps://www.quien.com/politica/2017/11/27/jose-antonio-meade...\n",
      "['Justin Bieber', 'Gourmet Awards', 'Gaby Cuevas', 'Catalina Creel', 'Casa Síclo']\n",
      "revisandohttp://www.e-consulta.com/nota/...jose-antonio-meade-su-equipo-de-campana\n",
      "[]\n",
      "revisandohttps://lasillarota.com/video-boda-barreiro-anaya-meade-cortina-de...\n",
      "[]\n"
     ]
    },
    {
     "data": {
      "text/plain": [
       "['Luis Videgaray',\n",
       " 'García de',\n",
       " 'René Juárez',\n",
       " 'Ajax Content',\n",
       " 'Meade y',\n",
       " 'Paulina Peña',\n",
       " 'Natalia Téllez',\n",
       " 'Lucero Saldaña',\n",
       " ' CENTRAL',\n",
       " 'Premio Nobel',\n",
       " 'Voz IP',\n",
       " 'José Yunes',\n",
       " 'Vargas Llosa',\n",
       " 'Droid Sans',\n",
       " 'Jorge Bravo',\n",
       " 'Dante Delgado',\n",
       " 'Vía Segura',\n",
       " 'Iván Gómez',\n",
       " 'Irving Sánchez',\n",
       " 'Edward Snowden',\n",
       " 'Popup Theme',\n",
       " 'Germán Meneses',\n",
       " 'La CAPAM',\n",
       " 'Beatriz Arizpe',\n",
       " 'Miguel Márquez',\n",
       " 'Carlos Sánchez',\n",
       " 'Samuel García',\n",
       " ' INTERES',\n",
       " 'Helvetica Neue',\n",
       " 'Ricardo Anaya5',\n",
       " 'Laura Bozzo',\n",
       " 'Santiago Nieto',\n",
       " 'Juana Cuevas',\n",
       " 'BW_Localized ',\n",
       " 'Ruiz Esparza',\n",
       " ' HolaAtizapán',\n",
       " 'Mikel Arriola',\n",
       " 'Estafa Maestra',\n",
       " 'Harman Kardon',\n",
       " 'Papa Francisco',\n",
       " 'Diego Luna',\n",
       " 'Eduardo Neri',\n",
       " ' Congreso',\n",
       " 'Ordaz Campos',\n",
       " 'Pinos Teens',\n",
       " 'Rosario Robles',\n",
       " 'Rubén Anwar',\n",
       " 'Dionisio Meade',\n",
       " 'Tercera Vía',\n",
       " 'Atizapán Esto',\n",
       " 'Enrique Doger',\n",
       " 'Van Rankin',\n",
       " 'Open Sans',\n",
       " 'Las Cookies',\n",
       " 'Emilio Zebadúa',\n",
       " 'Enrique Krauze',\n",
       " 'Marco Adame',\n",
       " 'Gullit Peña',\n",
       " 'López Obrador',\n",
       " 'Enrique Ochoa',\n",
       " 'David Martínez',\n",
       " 'Custom Styles',\n",
       " 'Gaby Rivero',\n",
       " 'Lorenzo Meyer',\n",
       " 'Alberto Bazán',\n",
       " 'Sergio Sendel',\n",
       " 'Luis Miguel',\n",
       " 'Qué Importa',\n",
       " ' Limitación',\n",
       " ' Desarrollado',\n",
       " 'Moreno Valle',\n",
       " 'Busca Morena',\n",
       " 'Carlos Salinas',\n",
       " 'Miguel Layún',\n",
       " 'Lucida Sans',\n",
       " 'Benito Juárez',\n",
       " 'Damián Zepeda',\n",
       " 'Blanca Alcalá',\n",
       " 'Catalina Creel',\n",
       " 'Redacción Mty',\n",
       " 'Alejandro Peña',\n",
       " 'Ricardo Rocha',\n",
       " ' Mensaje',\n",
       " 'Lord Ferrari',\n",
       " 'Santa Mónica',\n",
       " 'Cinema Móvil',\n",
       " 'Mexsi Bocu',\n",
       " 'Antonio Soto',\n",
       " 'Gourmet Awards',\n",
       " 'Lupita Jones',\n",
       " 'Alec Baldwin',\n",
       " 'ENRIQUE OCHOA',\n",
       " 'Napoleón Gómez',\n",
       " 'Miguel Bonasso',\n",
       " 'Álvaro Cueva',\n",
       " 'Esteban Ruiz',\n",
       " 'Hello Box',\n",
       " 'Felipe Nájera',\n",
       " 'Emilio Lozoya',\n",
       " 'Justin Bieber',\n",
       " 'Litho Formas',\n",
       " 'Eruviel Ávila',\n",
       " ' Copyright',\n",
       " 'Gavar Ya',\n",
       " 'Cutting Edge',\n",
       " 'Efectúa SEDENA',\n",
       " 'José Chedraui',\n",
       " ' ',\n",
       " 'Esther Sánchez',\n",
       " 'José Antonio',\n",
       " 'Rosa Gutiérrez',\n",
       " 'Nicolas Romero',\n",
       " 'El Gráfico',\n",
       " 'Denise Dresser',\n",
       " 'Marcela Arizpe',\n",
       " 'Triángulo Rojo',\n",
       " 'Reply Cancel',\n",
       " 'Kim Basinger',\n",
       " 'Chávez Pozas',\n",
       " 'Rafael Avante',\n",
       " 'Red Política',\n",
       " 'Karen Meza',\n",
       " 'Año Nuevo',\n",
       " ' Modificación',\n",
       " 'Vicente Fox',\n",
       " 'Manlio Fabio',\n",
       " 'ENFACEBOOK ',\n",
       " 'Jefe Diego',\n",
       " 'Denise Maerker',\n",
       " 'Salina Cruz',\n",
       " 'Vía Política',\n",
       " 'Judith Castro',\n",
       " 'David Uriarte',\n",
       " 'Default Theme',\n",
       " 'Karime Macías',\n",
       " 'Andrés Puentes',\n",
       " 'Javier Lozano',\n",
       " 'Osorio Chong',\n",
       " 'Cine Nombran',\n",
       " 'Abraham Zamora',\n",
       " 'Sol Sinaloa',\n",
       " 'Drop Caps',\n",
       " 'José Narro',\n",
       " 'Framed Border',\n",
       " 'Boletos ',\n",
       " 'Delfina Gómez',\n",
       " 'Rodolfo Dávila',\n",
       " ' LEGITIMA',\n",
       " 'referer ',\n",
       " 'Maru Dueñas',\n",
       " 'Angela Merkel',\n",
       " 'Casa Síclo',\n",
       " ' Pasar',\n",
       " ' Registro',\n",
       " 'Jane Seymour',\n",
       " 'Peña Nieto',\n",
       " 'El Usuario',\n",
       " 'Estela García',\n",
       " 'Sergio Corona',\n",
       " 'SE INSISTE',\n",
       " ' Página',\n",
       " 'Gaby Cuevas',\n",
       " 'Paola Migoya',\n",
       " 'Arexi Cavazos',\n",
       " 'Rosa Nava',\n",
       " 'Close Atacan',\n",
       " 'Alfonso Romo',\n",
       " 'Gómez Urrutia',\n",
       " 'Aarón Varela',\n",
       " ' Cuando',\n",
       " 'José José',\n",
       " ' Seguir',\n",
       " 'Nelson Vargas',\n",
       " 'Aurelio Nuño',\n",
       " 'Barbosa Huerta',\n",
       " 'Travieso Arce',\n",
       " 'Javier Nava',\n",
       " 'Rogelio Guerra',\n",
       " 'Viewing Tweets',\n",
       " 'Embed Tweet',\n",
       " 'Marina Ruy',\n",
       " 'Ricardo Anaya',\n",
       " ' GUZMANV',\n",
       " 'Maru Arellano',\n",
       " 'Rafael Bringas',\n",
       " 'Ariel Winter',\n",
       " 'Blanca López',\n",
       " 'Martha Erika',\n",
       " 'February 25',\n",
       " 'Daniel Ovadía',\n",
       " 'José Ángel',\n",
       " 'CARLOS DE']"
      ]
     },
     "execution_count": 183,
     "metadata": {},
     "output_type": "execute_result"
    }
   ],
   "source": [
    "person_network(\"Jose Antonio Meade\")"
   ]
  },
  {
   "cell_type": "code",
   "execution_count": null,
   "metadata": {},
   "outputs": [],
   "source": []
  },
  {
   "cell_type": "code",
   "execution_count": null,
   "metadata": {},
   "outputs": [],
   "source": []
  }
 ],
 "metadata": {
  "kernelspec": {
   "display_name": "Python 3",
   "language": "python",
   "name": "python3"
  },
  "language_info": {
   "codemirror_mode": {
    "name": "ipython",
    "version": 3
   },
   "file_extension": ".py",
   "mimetype": "text/x-python",
   "name": "python",
   "nbconvert_exporter": "python",
   "pygments_lexer": "ipython3",
   "version": "3.6.3"
  }
 },
 "nbformat": 4,
 "nbformat_minor": 2
}
