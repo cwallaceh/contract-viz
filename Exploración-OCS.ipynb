{
 "cells": [
  {
   "cell_type": "code",
   "execution_count": 46,
   "metadata": {},
   "outputs": [],
   "source": [
    "import altair as alt\n",
    "%matplotlib inline"
   ]
  },
  {
   "cell_type": "code",
   "execution_count": 47,
   "metadata": {},
   "outputs": [],
   "source": [
    "import json"
   ]
  },
  {
   "cell_type": "code",
   "execution_count": 48,
   "metadata": {},
   "outputs": [],
   "source": [
    "contrataciones = json.load(open(\"contratacionesabiertas_bulk.json\", \"rb\"))"
   ]
  },
  {
   "cell_type": "code",
   "execution_count": 49,
   "metadata": {},
   "outputs": [
    {
     "data": {
      "text/plain": [
       "52935"
      ]
     },
     "execution_count": 49,
     "metadata": {},
     "output_type": "execute_result"
    },
    {
     "name": "stdout",
     "output_type": "stream",
     "text": [
      "The history saving thread hit an unexpected error (OperationalError('database is locked',)).History will not be written to the database.\n"
     ]
    }
   ],
   "source": [
    "len(contrataciones)"
   ]
  },
  {
   "cell_type": "markdown",
   "metadata": {},
   "source": [
    "# Conociendo una sola contratacion"
   ]
  },
  {
   "cell_type": "code",
   "execution_count": null,
   "metadata": {},
   "outputs": [],
   "source": [
    "# Record, Compiled Release, # Ruta específica"
   ]
  },
  {
   "cell_type": "code",
   "execution_count": 45,
   "metadata": {},
   "outputs": [
    {
     "data": {
      "text/plain": [
       "{'_id': {'$oid': '5a84835b859c4a044d9037fd'},\n",
       " 'extensions': ['https://raw.githubusercontent.com/open-contracting/ocds_location_extension/v1.1.1/extension.json',\n",
       "  'https://raw.githubusercontent.com/open-contracting/ocds_additionalContactPoints_extension/master/extension.json',\n",
       "  'https://raw.githubusercontent.com/open-contracting/ocds_budget_breakdown_extension/master/extension.json',\n",
       "  'https://raw.githubusercontent.com/open-contracting/ocds_contract_suppliers_extension/master/extension.json'],\n",
       " 'license': 'https://datos.gob.mx/libreusomx',\n",
       " 'publishedDate': '2018-02-14T18:43:39.402684Z',\n",
       " 'publisher': {'name': 'SECRETARÍA DE LA FUNCIÓN PÚBLICA / SECRETARIA DE HACIENDA Y CRÉDITO PÚBLICO',\n",
       "  'uri': 'http://www.gob.mx/contratacionesabiertas/'},\n",
       " 'records': [{'compiledRelease': {'ciclo': 2017,\n",
       "    'contracts': [{'awardID': '1038',\n",
       "      'buyers': [{'id': '20147', 'name': 'delegación SEDESOL en Tabasco'}],\n",
       "      'contractDetails': {'contractType': 'Abierto',\n",
       "       'maxValue': {'amount': 10387.8, 'currency': 'MXN'},\n",
       "       'minValue': {'amount': 10387.8, 'currency': 'MXN'},\n",
       "       'multiyear': False,\n",
       "       'originalCurrencyValue': {'amount': 10387.8,\n",
       "        'currency': 'MXN',\n",
       "        'exchangeRate': '1'},\n",
       "       'priceScheme': 'Variables'},\n",
       "      'dateSigned': '2017-06-27T00:00:00Z',\n",
       "      'id': '201720004247',\n",
       "      'implementation': {'budgetBreakdown': [{'budgetClassification': [{'classification': 'financialSource',\n",
       "           'description': 'Recursos fiscales',\n",
       "           'id': '1',\n",
       "           'levelId': 1,\n",
       "           'levelLabel': 'Fuente de Financiamiento',\n",
       "           'measures': [{'id': 'Comprometido',\n",
       "             'value': {'amount': 10387.8, 'currency': 'MXN'}},\n",
       "            {'id': 'Devengado',\n",
       "             'value': {'amount': 10387.8, 'currency': 'MXN'}},\n",
       "            {'id': 'Ejercido',\n",
       "             'value': {'amount': 10387.8, 'currency': 'MXN'}},\n",
       "            {'id': 'Pagado',\n",
       "             'value': {'amount': 10387.8, 'currency': 'MXN'}}]},\n",
       "          {'classification': 'Administrative',\n",
       "           'description': 'delegación SEDESOL en Tabasco',\n",
       "           'id': '20147',\n",
       "           'levelId': 2,\n",
       "           'levelLabel': 'Unidad Responsable',\n",
       "           'measures': [{'id': 'Comprometido',\n",
       "             'value': {'amount': 10387.8, 'currency': 'MXN'}},\n",
       "            {'id': 'Devengado',\n",
       "             'value': {'amount': 10387.8, 'currency': 'MXN'}},\n",
       "            {'id': 'Ejercido',\n",
       "             'value': {'amount': 10387.8, 'currency': 'MXN'}},\n",
       "            {'id': 'Pagado',\n",
       "             'value': {'amount': 10387.8, 'currency': 'MXN'}}]},\n",
       "          {'classification': 'Economic',\n",
       "           'description': 'Mantenimiento Y Conservación de Mobiliario Y Equipo de Administración',\n",
       "           'id': '35201',\n",
       "           'levelId': 4,\n",
       "           'levelLabel': 'Partida Específica',\n",
       "           'measures': [{'id': 'Comprometido',\n",
       "             'value': {'amount': 10387.8, 'currency': 'MXN'}},\n",
       "            {'id': 'Devengado',\n",
       "             'value': {'amount': 10387.8, 'currency': 'MXN'}},\n",
       "            {'id': 'Ejercido',\n",
       "             'value': {'amount': 10387.8, 'currency': 'MXN'}},\n",
       "            {'id': 'Pagado',\n",
       "             'value': {'amount': 10387.8, 'currency': 'MXN'}}]}],\n",
       "         'description': 'Promoción y evaluación de la política de Desarrollo social y comunitario, la participación y la cohesión social',\n",
       "         'id': '20P002',\n",
       "         'url': 'http://nptp.hacienda.gob.mx/programas/jsp/programas/fichaPrograma.jsp?id=20P002'}]},\n",
       "      'period': {'durationInDays': 1,\n",
       "       'endDate': '2017-06-28T23:59:59Z',\n",
       "       'startDate': '2017-06-27T00:00:00Z'},\n",
       "      'suppliers': [{'id': '95F5D7F5DD77D73E3232026B4732232A',\n",
       "        'name': 'JESUS ALBERTO ROSAS GARDUZA'}],\n",
       "      'title': 'PAGO FACT 25',\n",
       "      'valueWithTax': {'amount': 10387.8, 'currency': 'MXN'}}],\n",
       "    'date': '2018-02-12T18:40:40Z',\n",
       "    'id': '1038',\n",
       "    'initiationType': 'tender',\n",
       "    'language': 'es',\n",
       "    'ocid': 'ocds-07smqs-1038',\n",
       "    'parties': [{'additionalIdentifiers': [{'id': '20',\n",
       "        'legalName': 'Desarrollo Social',\n",
       "        'scheme': 'MX-CPA',\n",
       "        'schemeUrl': 'http://www.transparenciapresupuestaria.gob.mx/work/models/PTP/DatosAbiertos/Metadatos/catalogos_presupuestarios.xlsx'}],\n",
       "      'contactPoint': {'name': 'Gustavo Antonio Glori Tellechea'},\n",
       "      'id': '20147',\n",
       "      'identifier': {'id': '20147',\n",
       "       'legalName': 'delegación SEDESOL en Tabasco',\n",
       "       'scheme': 'MX-CPA',\n",
       "       'schemeUrl': 'http://www.transparenciapresupuestaria.gob.mx/work/models/PTP/DatosAbiertos/Metadatos/catalogos_presupuestarios.xlsx'},\n",
       "      'name': 'delegación SEDESOL en Tabasco',\n",
       "      'roles': ['buyer']},\n",
       "     {'contactPoint': {'name': 'JESUS A ROSAS GARDUZA'},\n",
       "      'id': '95F5D7F5DD77D73E3232026B4732232A',\n",
       "      'identifier': {'id': '95F5D7F5DD77D73E3232026B4732232A',\n",
       "       'legalName': 'JESUS ALBERTO ROSAS GARDUZA',\n",
       "       'scheme': 'MX-RFC',\n",
       "       'schemeUrl': 'https://portalsat.plataforma.sat.gob.mx/ConsultaRFC/'},\n",
       "      'name': 'JESUS ALBERTO ROSAS GARDUZA',\n",
       "      'roles': ['supplier']}],\n",
       "    'planning': {'budget': {'budgetBreakdown': [{'budgetclassifications': [{'Measures': [{'id': 'Aprobado',\n",
       "            'value': {'amount': 10000, 'currency': 'MXN'}}],\n",
       "          'classifications': 'financialSource',\n",
       "          'description': 'Recursos fiscales',\n",
       "          'id': '1',\n",
       "          'level': 1,\n",
       "          'levelLabel': 'Fuente de Financiamiento'},\n",
       "         {'Measures': [{'id': 'Aprobado',\n",
       "            'value': {'amount': 10000, 'currency': 'MXN'}}],\n",
       "          'classifications': 'Administrative',\n",
       "          'description': 'delegación SEDESOL en Tabasco',\n",
       "          'id': '20147',\n",
       "          'level': 2,\n",
       "          'levelLabel': 'Unidad Responsable'},\n",
       "         {'Measures': [{'id': 'Aprobado',\n",
       "            'value': {'amount': 10000, 'currency': 'MXN'}}],\n",
       "          'classifications': 'Economic',\n",
       "          'description': 'Mantenimiento Y Conservación de Mobiliario Y Equipo de Administración',\n",
       "          'id': '35201',\n",
       "          'level': 4,\n",
       "          'levelLabel': 'Partida Específica'}],\n",
       "        'description': 'Promoción y evaluación de la política de Desarrollo social y comunitario, la participación y la cohesión social',\n",
       "        'id': '20P002',\n",
       "        'url': 'http://nptp.hacienda.gob.mx/programas/jsp/programas/fichaPrograma.jsp?id=20P002'}]}},\n",
       "    'publisher': {'name': 'SECRETARÍA DE HACIENDA Y CRÉDITO PÚBLICO',\n",
       "     'uid': '00000',\n",
       "     'uri': 'http://www.gob.mx/shcp'},\n",
       "    'tag': ['compiled'],\n",
       "    'tender': {'id': '1038'}},\n",
       "   'ocid': 'ocds-07smqs-1038',\n",
       "   'releases': [{'ciclo': 2017,\n",
       "     'contracts': [{'awardID': '1038',\n",
       "       'buyers': [{'id': '20147', 'name': 'delegación SEDESOL en Tabasco'}],\n",
       "       'contractDetails': {'contractType': 'Abierto',\n",
       "        'maxValue': {'amount': 10387.8, 'currency': 'MXN'},\n",
       "        'minValue': {'amount': 10387.8, 'currency': 'MXN'},\n",
       "        'multiyear': False,\n",
       "        'originalCurrencyValue': {'amount': 10387.8,\n",
       "         'currency': 'MXN',\n",
       "         'exchangeRate': '1'},\n",
       "        'priceScheme': 'Variables'},\n",
       "       'dateSigned': '2017-06-27T00:00:00Z',\n",
       "       'id': '201720004247',\n",
       "       'implementation': {'budgetBreakdown': [{'budgetClassification': [{'classification': 'financialSource',\n",
       "            'description': 'Recursos fiscales',\n",
       "            'id': '1',\n",
       "            'levelId': 1,\n",
       "            'levelLabel': 'Fuente de Financiamiento',\n",
       "            'measures': [{'id': 'Comprometido',\n",
       "              'value': {'amount': 10387.8, 'currency': 'MXN'}},\n",
       "             {'id': 'Devengado',\n",
       "              'value': {'amount': 10387.8, 'currency': 'MXN'}},\n",
       "             {'id': 'Ejercido',\n",
       "              'value': {'amount': 10387.8, 'currency': 'MXN'}},\n",
       "             {'id': 'Pagado',\n",
       "              'value': {'amount': 10387.8, 'currency': 'MXN'}}]},\n",
       "           {'classification': 'Administrative',\n",
       "            'description': 'delegación SEDESOL en Tabasco',\n",
       "            'id': '20147',\n",
       "            'levelId': 2,\n",
       "            'levelLabel': 'Unidad Responsable',\n",
       "            'measures': [{'id': 'Comprometido',\n",
       "              'value': {'amount': 10387.8, 'currency': 'MXN'}},\n",
       "             {'id': 'Devengado',\n",
       "              'value': {'amount': 10387.8, 'currency': 'MXN'}},\n",
       "             {'id': 'Ejercido',\n",
       "              'value': {'amount': 10387.8, 'currency': 'MXN'}},\n",
       "             {'id': 'Pagado',\n",
       "              'value': {'amount': 10387.8, 'currency': 'MXN'}}]},\n",
       "           {'classification': 'Economic',\n",
       "            'description': 'Mantenimiento Y Conservación de Mobiliario Y Equipo de Administración',\n",
       "            'id': '35201',\n",
       "            'levelId': 4,\n",
       "            'levelLabel': 'Partida Específica',\n",
       "            'measures': [{'id': 'Comprometido',\n",
       "              'value': {'amount': 10387.8, 'currency': 'MXN'}},\n",
       "             {'id': 'Devengado',\n",
       "              'value': {'amount': 10387.8, 'currency': 'MXN'}},\n",
       "             {'id': 'Ejercido',\n",
       "              'value': {'amount': 10387.8, 'currency': 'MXN'}},\n",
       "             {'id': 'Pagado',\n",
       "              'value': {'amount': 10387.8, 'currency': 'MXN'}}]}],\n",
       "          'description': 'Promoción y evaluación de la política de Desarrollo social y comunitario, la participación y la cohesión social',\n",
       "          'id': '20P002',\n",
       "          'url': 'http://nptp.hacienda.gob.mx/programas/jsp/programas/fichaPrograma.jsp?id=20P002'}]},\n",
       "       'period': {'durationInDays': 1,\n",
       "        'endDate': '2017-06-28T23:59:59Z',\n",
       "        'startDate': '2017-06-27T00:00:00Z'},\n",
       "       'suppliers': [{'id': '95F5D7F5DD77D73E3232026B4732232A',\n",
       "         'name': 'JESUS ALBERTO ROSAS GARDUZA'}],\n",
       "       'title': 'PAGO FACT 25',\n",
       "       'valueWithTax': {'amount': 10387.8, 'currency': 'MXN'}}],\n",
       "     'date': '2018-02-12T18:40:40Z',\n",
       "     'id': '1038',\n",
       "     'initiationType': 'tender',\n",
       "     'language': 'es',\n",
       "     'ocid': 'ocds-07smqs-1038',\n",
       "     'parties': [{'additionalIdentifiers': [{'id': '20',\n",
       "         'legalName': 'Desarrollo Social',\n",
       "         'scheme': 'MX-CPA',\n",
       "         'schemeUrl': 'http://www.transparenciapresupuestaria.gob.mx/work/models/PTP/DatosAbiertos/Metadatos/catalogos_presupuestarios.xlsx'}],\n",
       "       'contactPoint': {'name': 'Gustavo Antonio Glori Tellechea'},\n",
       "       'id': '20147',\n",
       "       'identifier': {'id': '20147',\n",
       "        'legalName': 'delegación SEDESOL en Tabasco',\n",
       "        'scheme': 'MX-CPA',\n",
       "        'schemeUrl': 'http://www.transparenciapresupuestaria.gob.mx/work/models/PTP/DatosAbiertos/Metadatos/catalogos_presupuestarios.xlsx'},\n",
       "       'name': 'delegación SEDESOL en Tabasco',\n",
       "       'roles': ['buyer']},\n",
       "      {'contactPoint': {'name': 'JESUS A ROSAS GARDUZA'},\n",
       "       'id': '95F5D7F5DD77D73E3232026B4732232A',\n",
       "       'identifier': {'id': '95F5D7F5DD77D73E3232026B4732232A',\n",
       "        'legalName': 'JESUS ALBERTO ROSAS GARDUZA',\n",
       "        'scheme': 'MX-RFC',\n",
       "        'schemeUrl': 'https://portalsat.plataforma.sat.gob.mx/ConsultaRFC/'},\n",
       "       'name': 'JESUS ALBERTO ROSAS GARDUZA',\n",
       "       'roles': ['supplier']}],\n",
       "     'planning': {'budget': {'budgetBreakdown': [{'budgetclassifications': [{'Measures': [{'id': 'Aprobado',\n",
       "             'value': {'amount': 10000, 'currency': 'MXN'}}],\n",
       "           'classifications': 'financialSource',\n",
       "           'description': 'Recursos fiscales',\n",
       "           'id': '1',\n",
       "           'level': 1,\n",
       "           'levelLabel': 'Fuente de Financiamiento'},\n",
       "          {'Measures': [{'id': 'Aprobado',\n",
       "             'value': {'amount': 10000, 'currency': 'MXN'}}],\n",
       "           'classifications': 'Administrative',\n",
       "           'description': 'delegación SEDESOL en Tabasco',\n",
       "           'id': '20147',\n",
       "           'level': 2,\n",
       "           'levelLabel': 'Unidad Responsable'},\n",
       "          {'Measures': [{'id': 'Aprobado',\n",
       "             'value': {'amount': 10000, 'currency': 'MXN'}}],\n",
       "           'classifications': 'Economic',\n",
       "           'description': 'Mantenimiento Y Conservación de Mobiliario Y Equipo de Administración',\n",
       "           'id': '35201',\n",
       "           'level': 4,\n",
       "           'levelLabel': 'Partida Específica'}],\n",
       "         'description': 'Promoción y evaluación de la política de Desarrollo social y comunitario, la participación y la cohesión social',\n",
       "         'id': '20P002',\n",
       "         'url': 'http://nptp.hacienda.gob.mx/programas/jsp/programas/fichaPrograma.jsp?id=20P002'}]}},\n",
       "     'publisher': {'name': 'SECRETARÍA DE HACIENDA Y CRÉDITO PÚBLICO',\n",
       "      'uid': '00000',\n",
       "      'uri': 'http://www.gob.mx/shcp'},\n",
       "     'tag': ['contract'],\n",
       "     'tender': {'id': '1038'}}]}],\n",
       " 'uri': 'https://api.datos.gob.mx/v1/',\n",
       " 'version': '1.1'}"
      ]
     },
     "execution_count": 45,
     "metadata": {},
     "output_type": "execute_result"
    }
   ],
   "source": [
    "contrataciones[0]"
   ]
  },
  {
   "cell_type": "code",
   "execution_count": 43,
   "metadata": {},
   "outputs": [
    {
     "data": {
      "text/plain": [
       "dict_keys(['_id', 'uri', 'version', 'extensions', 'license', 'publishedDate', 'publisher', 'records'])"
      ]
     },
     "execution_count": 43,
     "metadata": {},
     "output_type": "execute_result"
    }
   ],
   "source": [
    "contrataciones[0].keys()"
   ]
  },
  {
   "cell_type": "code",
   "execution_count": 44,
   "metadata": {},
   "outputs": [
    {
     "data": {
      "text/plain": [
       "dict_keys(['_id', 'uri', 'version', 'extensions', 'license', 'publishedDate', 'publisher', 'records'])"
      ]
     },
     "execution_count": 44,
     "metadata": {},
     "output_type": "execute_result"
    }
   ],
   "source": [
    "contrataciones[0].keys()"
   ]
  },
  {
   "cell_type": "code",
   "execution_count": 15,
   "metadata": {},
   "outputs": [
    {
     "data": {
      "text/plain": [
       "dict_keys(['ocid', 'releases', 'compiledRelease'])"
      ]
     },
     "execution_count": 15,
     "metadata": {},
     "output_type": "execute_result"
    }
   ],
   "source": [
    "contrataciones[0][\"records\"][0].keys()"
   ]
  },
  {
   "cell_type": "code",
   "execution_count": 25,
   "metadata": {},
   "outputs": [
    {
     "data": {
      "text/plain": [
       "set()"
      ]
     },
     "execution_count": 25,
     "metadata": {},
     "output_type": "execute_result"
    }
   ],
   "source": [
    "set(contrataciones[0][\"records\"][0][\"releases\"][0])-set(contrataciones[0][\"records\"][0][\"compiledRelease\"])"
   ]
  },
  {
   "cell_type": "code",
   "execution_count": 79,
   "metadata": {},
   "outputs": [],
   "source": [
    "published1 =contrataciones[0][\"records\"][0][\"compiledRelease\"]"
   ]
  },
  {
   "cell_type": "code",
   "execution_count": null,
   "metadata": {},
   "outputs": [],
   "source": [
    "published1[\"b\"]"
   ]
  },
  {
   "cell_type": "code",
   "execution_count": 80,
   "metadata": {},
   "outputs": [
    {
     "data": {
      "text/plain": [
       "dict_keys(['tag', 'ciclo', 'date', 'id', 'initiationType', 'language', 'ocid', 'publisher', 'tender', 'contracts', 'parties', 'planning'])"
      ]
     },
     "execution_count": 80,
     "metadata": {},
     "output_type": "execute_result"
    }
   ],
   "source": [
    "published1.keys()"
   ]
  },
  {
   "cell_type": "code",
   "execution_count": 57,
   "metadata": {},
   "outputs": [
    {
     "data": {
      "text/plain": [
       "dict_keys(['id', 'awardID', 'dateSigned', 'title', 'contractDetails', 'period', 'valueWithTax', 'buyers', 'suppliers', 'implementation'])"
      ]
     },
     "execution_count": 57,
     "metadata": {},
     "output_type": "execute_result"
    }
   ],
   "source": [
    "published1[\"contracts\"][0]"
   ]
  },
  {
   "cell_type": "code",
   "execution_count": 36,
   "metadata": {},
   "outputs": [
    {
     "data": {
      "text/plain": [
       "dict_keys(['tag', 'ciclo', 'date', 'id', 'initiationType', 'language', 'ocid', 'publisher', 'tender', 'contracts', 'parties', 'planning'])"
      ]
     },
     "execution_count": 36,
     "metadata": {},
     "output_type": "execute_result"
    }
   ],
   "source": [
    "published1.keys()"
   ]
  },
  {
   "cell_type": "code",
   "execution_count": 38,
   "metadata": {},
   "outputs": [
    {
     "data": {
      "text/plain": [
       "{'id': '1038'}"
      ]
     },
     "execution_count": 38,
     "metadata": {},
     "output_type": "execute_result"
    }
   ],
   "source": []
  },
  {
   "cell_type": "code",
   "execution_count": null,
   "metadata": {},
   "outputs": [],
   "source": []
  },
  {
   "cell_type": "code",
   "execution_count": 7,
   "metadata": {},
   "outputs": [
    {
     "data": {
      "text/plain": [
       "dict_keys(['_id', 'uri', 'version', 'extensions', 'license', 'publishedDate', 'publisher', 'records'])"
      ]
     },
     "execution_count": 7,
     "metadata": {},
     "output_type": "execute_result"
    }
   ],
   "source": [
    "contrataciones[0].keys()"
   ]
  },
  {
   "cell_type": "code",
   "execution_count": 8,
   "metadata": {},
   "outputs": [
    {
     "data": {
      "text/plain": [
       "dict_keys(['ocid', 'releases', 'compiledRelease'])"
      ]
     },
     "execution_count": 8,
     "metadata": {},
     "output_type": "execute_result"
    }
   ],
   "source": [
    "contrataciones[0]['records'][0].keys()"
   ]
  },
  {
   "cell_type": "code",
   "execution_count": 9,
   "metadata": {},
   "outputs": [
    {
     "data": {
      "text/plain": [
       "dict_keys(['publisher', 'ocid', 'id', 'date', 'ciclo', 'tag', 'initiationType', 'parties', 'planning', 'tender', 'contracts', 'language'])"
      ]
     },
     "execution_count": 9,
     "metadata": {},
     "output_type": "execute_result"
    }
   ],
   "source": [
    "contrataciones[0]['records'][0][\"releases\"][0].keys()"
   ]
  },
  {
   "cell_type": "code",
   "execution_count": 10,
   "metadata": {},
   "outputs": [
    {
     "data": {
      "text/plain": [
       "dict_keys(['id', 'description', 'budgetclassifications', 'url'])"
      ]
     },
     "execution_count": 10,
     "metadata": {},
     "output_type": "execute_result"
    }
   ],
   "source": [
    "contrataciones[0]['records'][0][\"releases\"][0][\"planning\"]['budget']['budgetBreakdown'][0].keys()"
   ]
  },
  {
   "cell_type": "code",
   "execution_count": 11,
   "metadata": {},
   "outputs": [
    {
     "data": {
      "text/plain": [
       "[{'Measures': [{'id': 'Aprobado',\n",
       "    'value': {'amount': 10000, 'currency': 'MXN'}}],\n",
       "  'classifications': 'financialSource',\n",
       "  'description': 'Recursos fiscales',\n",
       "  'id': '1',\n",
       "  'level': 1,\n",
       "  'levelLabel': 'Fuente de Financiamiento'},\n",
       " {'Measures': [{'id': 'Aprobado',\n",
       "    'value': {'amount': 10000, 'currency': 'MXN'}}],\n",
       "  'classifications': 'Administrative',\n",
       "  'description': 'delegación SEDESOL en Tabasco',\n",
       "  'id': '20147',\n",
       "  'level': 2,\n",
       "  'levelLabel': 'Unidad Responsable'},\n",
       " {'Measures': [{'id': 'Aprobado',\n",
       "    'value': {'amount': 10000, 'currency': 'MXN'}}],\n",
       "  'classifications': 'Economic',\n",
       "  'description': 'Mantenimiento Y Conservación de Mobiliario Y Equipo de Administración',\n",
       "  'id': '35201',\n",
       "  'level': 4,\n",
       "  'levelLabel': 'Partida Específica'}]"
      ]
     },
     "execution_count": 11,
     "metadata": {},
     "output_type": "execute_result"
    }
   ],
   "source": [
    "contrataciones[0]['records'][0][\"releases\"][0][\"planning\"]['budget']['budgetBreakdown'][0][\"budgetclassifications\"]"
   ]
  },
  {
   "cell_type": "code",
   "execution_count": 15,
   "metadata": {},
   "outputs": [
    {
     "data": {
      "text/plain": [
       "[{'id': '95F5D7F5DD77D73E3232026B4732232A',\n",
       "  'name': 'JESUS ALBERTO ROSAS GARDUZA'}]"
      ]
     },
     "execution_count": 15,
     "metadata": {},
     "output_type": "execute_result"
    }
   ],
   "source": [
    "contrataciones[0]['records'][0][\"releases\"][0][\"contracts\"][0][\"suppliers\"]"
   ]
  },
  {
   "cell_type": "code",
   "execution_count": 69,
   "metadata": {},
   "outputs": [],
   "source": [
    "suppliers = []\n",
    "for contratacion in contrataciones:\n",
    "    if \"contracts\" in contratacion['records'][0][\"releases\"][0]:\n",
    "        contratos = contratacion['records'][0][\"releases\"][0][\"contracts\"]\n",
    "        for contrato in contratos:\n",
    "            if \"suppliers\" in contrato:\n",
    "                for supplier in contrato[\"suppliers\"]:\n",
    "                    suppliers.append(supplier[\"name\"])"
   ]
  },
  {
   "cell_type": "code",
   "execution_count": 70,
   "metadata": {},
   "outputs": [],
   "source": [
    "import pandas as pd"
   ]
  },
  {
   "cell_type": "code",
   "execution_count": 71,
   "metadata": {},
   "outputs": [],
   "source": [
    "suppliers_df = pd.DataFrame(suppliers, columns=[\"suppliers\"])"
   ]
  },
  {
   "cell_type": "code",
   "execution_count": null,
   "metadata": {},
   "outputs": [],
   "source": []
  },
  {
   "cell_type": "code",
   "execution_count": 77,
   "metadata": {},
   "outputs": [
    {
     "data": {
      "text/plain": [
       "SERVICIO AUTOMOTRIZ ESPECIALISTAS EN TRANSMISIONES AUTOMATICAS SA DE CV        432\n",
       "AEROVIAS DE MEXICO SA DE CV                                                    288\n",
       "_ _ _                                                                          268\n",
       "SERVICIO POSTAL  MEXICANO                                                      256\n",
       "COMERCIALIZADORA E IMPORTADORA DE PRODUCTOS QUIMICOS  S.A. DE C.V.             208\n",
       "ABALAT SA DE CV                                                                200\n",
       "PROCESADORA Y DISTRIBUIDORA LOS CHANEQUES S A DE C V                           197\n",
       "SECOLIMPSA Y COMERCIALIZADORA SA DE CV                                         190\n",
       "DISTRIBUIDORA INTEGRAL DE ANALISIS CLINICOS S.A. DE C.V.                       165\n",
       "FARMACEUTICOS MAYPO SA DE CV                                                   164\n",
       "ACCESORIOS PARA LABORATORIOS  S.A. DE C.V.                                     153\n",
       "LABORATORIOS PISA SA DE CV                                                     147\n",
       "BALANDRANO INK SA DE CV                                                        143\n",
       "HI TEC MEDICAL, S.A. DE C.V.                                                   136\n",
       "GRUPO FARMACOS ESPECIALIZADOS S.A. DE C.V.                                     135\n",
       "MAXI SERVICIOS DE MEXICO SA DE CV                                              132\n",
       "INVEDUC SA DE CV                                                               118\n",
       "MEDICAL CORPORATION GROUP S.A. DE C.V                                          117\n",
       "EDENRED MEXICO SA DE V                                                         109\n",
       "CONTROL TECNICO Y REPRESENTACIONES  S A  DE  C V                               108\n",
       "COMERCIALIZADORA DAFERDI SA DE CV                                              105\n",
       "EULEN MEXICO DE SERVICIOS SA DE CV                                             103\n",
       "ORGANIZACION MITAMEX SA DE CV                                                   88\n",
       "SILVERA CIENCIA E INGENIERIA, S.A. DE C.V.                                      87\n",
       "ALFONSO MARHX SA DE CV                                                          82\n",
       "MEDICAL PHARMACEUTICA SA DE CV                                                  79\n",
       "DUMSA DISTRIBUIDORA UNIVERSAL MEXICANA SA DE CV                                 78\n",
       "DIAGNOCELL LABORATORIOS  S.A. DE C.V.                                           75\n",
       "AXTEL, S.A.B. DE C.V.                                                           75\n",
       "WORKING ON GO S DE RL DE CV                                                     73\n",
       "                                                                              ... \n",
       "PROFESIONALES EN SERVICIO DE CONTROL Y MANEJO DE PLAGAS S DE RL DE CV            1\n",
       "COALTA, S.A. DE C.V.                                                             1\n",
       "COMERCIAL LEICAM S.A DE C.V.                                                     1\n",
       "CONSTRUCCIONES LUKER SA DE CV                                                    1\n",
       "PALMARES SUMINISTROS Y CONSTRUCCIONES S.A. DE C.V.                               1\n",
       "INTEGRACIÓN DE SERVICIOS Y EJECUCIONES DE OBRAS DE EDIFICACIÓN, S.A DE C.V.      1\n",
       "CARLOS ALBERTO GARCIA OROZCO                                                     1\n",
       "LUIS AGUAYO SANCHEZ                                                              1\n",
       "MARIA CRISTINA RIVERA BUENROSTRO                                                 1\n",
       "PABLO MORENO SEGOVIA                                                             1\n",
       "ERENDIRA AGUIRRE SOSA                                                            1\n",
       "LABORATORIO DE EQUIPO Y SERVICIO INDUSTRIAL SA DE CV                             1\n",
       "GRUPO DE RADIODIFUSORAS SA DE CV                                                 1\n",
       "SALVADOR     ALCALA GONZALEZ                                                     1\n",
       "FELIPE OROPEZA ALOR                                                              1\n",
       "PRICE WATER HOUSE COOPERS S.C.                                                   1\n",
       "JOSE ANTONIO ROYUELA SOLARANA                                                    1\n",
       "IVAN NIEBLAS LEYTE                                                               1\n",
       "JUAN FEDERICO HERNANDEZ CUATE                                                    1\n",
       "GRAFIDELIS SA DE CV                                                              1\n",
       "PATRICIA KELLY RAMIREZ                                                           1\n",
       "I&AA S.A. DE C.V.                                                                1\n",
       "MARTHA AURORA CEJA DIAZ                                                          1\n",
       "INTEGRA METAS ESTRATEGICAS SA DE CV                                              1\n",
       "HERMILIO CASTRO ALFARO                                                           1\n",
       "ALTA TECNOLOGIA EN INGENIERIA Y CONSTRUCCION S.A. DE C.V.                        1\n",
       "INTERNACIONAL PROVEEDORA DE INDUSTRIAS S A  DE C V                               1\n",
       "EDIFICACIONES MAACA S.A. DE C.V.                                                 1\n",
       "ROSA ELENA RODRIGUEZ GUERRA                                                      1\n",
       "JR DE LA CRUZ SC                                                                 1\n",
       "Name: suppliers, Length: 7655, dtype: int64"
      ]
     },
     "execution_count": 77,
     "metadata": {},
     "output_type": "execute_result"
    }
   ],
   "source": [
    "suppliers_df[\"suppliers\"].value_counts()"
   ]
  },
  {
   "cell_type": "code",
   "execution_count": 75,
   "metadata": {},
   "outputs": [
    {
     "data": {
      "text/plain": [
       "{'_id': {'$oid': '5a96447c859c4a438a5168b0'},\n",
       " 'extensions': ['https://raw.githubusercontent.com/open-contracting/ocds_location_extension/v1.1.1/extension.json',\n",
       "  'https://raw.githubusercontent.com/open-contracting/ocds_additionalContactPoints_extension/master/extension.json',\n",
       "  'https://raw.githubusercontent.com/open-contracting/ocds_budget_breakdown_extension/master/extension.json',\n",
       "  'https://raw.githubusercontent.com/open-contracting/ocds_contract_suppliers_extension/master/extension.json'],\n",
       " 'license': 'https://datos.gob.mx/libreusomx',\n",
       " 'publishedDate': '2018-02-28T05:56:12.397136Z',\n",
       " 'publisher': {'name': 'SECRETARÍA DE LA FUNCIÓN PÚBLICA / SECRETARIA DE HACIENDA Y CRÉDITO PÚBLICO',\n",
       "  'uri': 'http://www.gob.mx/contratacionesabiertas/'},\n",
       " 'records': [{'compiledRelease': {'ciclo': 2017,\n",
       "    'contracts': [{'awardID': '1038',\n",
       "      'buyers': [{'id': '20147', 'name': 'delegación SEDESOL en Tabasco'}],\n",
       "      'contractDetails': {'contractType': 'Abierto',\n",
       "       'maxValue': {'amount': 10387.8, 'currency': 'MXN'},\n",
       "       'minValue': {'amount': 10387.8, 'currency': 'MXN'},\n",
       "       'multiyear': False,\n",
       "       'originalCurrencyValue': {'amount': 10387.8,\n",
       "        'currency': 'MXN',\n",
       "        'exchangeRate': '1'},\n",
       "       'priceScheme': 'Variables'},\n",
       "      'dateSigned': '2017-06-27T00:00:00Z',\n",
       "      'id': '201720004247',\n",
       "      'implementation': {'budgetBreakdown': [{'budgetClassification': [{'classification': 'financialSource',\n",
       "           'description': 'Recursos fiscales',\n",
       "           'id': '1',\n",
       "           'levelId': 1,\n",
       "           'levelLabel': 'Fuente de Financiamiento',\n",
       "           'measures': [{'id': 'Comprometido',\n",
       "             'value': {'amount': 10387.8, 'currency': 'MXN'}},\n",
       "            {'id': 'Devengado',\n",
       "             'value': {'amount': 10387.8, 'currency': 'MXN'}},\n",
       "            {'id': 'Ejercido',\n",
       "             'value': {'amount': 10387.8, 'currency': 'MXN'}},\n",
       "            {'id': 'Pagado',\n",
       "             'value': {'amount': 10387.8, 'currency': 'MXN'}}]},\n",
       "          {'classification': 'Administrative',\n",
       "           'description': 'delegación SEDESOL en Tabasco',\n",
       "           'id': '20147',\n",
       "           'levelId': 2,\n",
       "           'levelLabel': 'Unidad Responsable',\n",
       "           'measures': [{'id': 'Comprometido',\n",
       "             'value': {'amount': 10387.8, 'currency': 'MXN'}},\n",
       "            {'id': 'Devengado',\n",
       "             'value': {'amount': 10387.8, 'currency': 'MXN'}},\n",
       "            {'id': 'Ejercido',\n",
       "             'value': {'amount': 10387.8, 'currency': 'MXN'}},\n",
       "            {'id': 'Pagado',\n",
       "             'value': {'amount': 10387.8, 'currency': 'MXN'}}]},\n",
       "          {'classification': 'Economic',\n",
       "           'description': 'Mantenimiento Y Conservación de Mobiliario Y Equipo de Administración',\n",
       "           'id': '35201',\n",
       "           'levelId': 4,\n",
       "           'levelLabel': 'Partida Específica',\n",
       "           'measures': [{'id': 'Comprometido',\n",
       "             'value': {'amount': 10387.8, 'currency': 'MXN'}},\n",
       "            {'id': 'Devengado',\n",
       "             'value': {'amount': 10387.8, 'currency': 'MXN'}},\n",
       "            {'id': 'Ejercido',\n",
       "             'value': {'amount': 10387.8, 'currency': 'MXN'}},\n",
       "            {'id': 'Pagado',\n",
       "             'value': {'amount': 10387.8, 'currency': 'MXN'}}]}],\n",
       "         'description': 'Promoción y evaluación de la política de Desarrollo social y comunitario, la participación y la cohesión social',\n",
       "         'id': '20P002',\n",
       "         'url': 'http://nptp.hacienda.gob.mx/programas/jsp/programas/fichaPrograma.jsp?id=20P002'}]},\n",
       "      'period': {'durationInDays': 1,\n",
       "       'endDate': '2017-06-28T23:59:59Z',\n",
       "       'startDate': '2017-06-27T00:00:00Z'},\n",
       "      'suppliers': [{'id': '95F5D7F5DD77D73E3232026B4732232A',\n",
       "        'name': 'JESUS ALBERTO ROSAS GARDUZA'}],\n",
       "      'title': 'PAGO FACT 25',\n",
       "      'valueWithTax': {'amount': 10387.8, 'currency': 'MXN'}}],\n",
       "    'date': '2018-02-26T20:04:52Z',\n",
       "    'id': '1038-shcp-20180226200452',\n",
       "    'initiationType': 'tender',\n",
       "    'language': 'es',\n",
       "    'ocid': 'ocds-07smqs-1038',\n",
       "    'parties': [{'additionalIdentifiers': [{'id': '20',\n",
       "        'legalName': 'Desarrollo Social',\n",
       "        'scheme': 'MX-CPA',\n",
       "        'schemeUrl': 'http://www.transparenciapresupuestaria.gob.mx/work/models/PTP/DatosAbiertos/Metadatos/catalogos_presupuestarios.xlsx'}],\n",
       "      'contactPoint': {'name': 'Gustavo Antonio Glori Tellechea'},\n",
       "      'id': '20147',\n",
       "      'identifier': {'id': '20147',\n",
       "       'legalName': 'delegación SEDESOL en Tabasco',\n",
       "       'scheme': 'MX-CPA',\n",
       "       'schemeUrl': 'http://www.transparenciapresupuestaria.gob.mx/work/models/PTP/DatosAbiertos/Metadatos/catalogos_presupuestarios.xlsx'},\n",
       "      'name': 'delegación SEDESOL en Tabasco',\n",
       "      'roles': ['buyer']},\n",
       "     {'contactPoint': {'name': 'JESUS A ROSAS GARDUZA'},\n",
       "      'id': '95F5D7F5DD77D73E3232026B4732232A',\n",
       "      'identifier': {'id': '95F5D7F5DD77D73E3232026B4732232A',\n",
       "       'legalName': 'JESUS ALBERTO ROSAS GARDUZA',\n",
       "       'scheme': 'MX-RFC',\n",
       "       'schemeUrl': 'https://portalsat.plataforma.sat.gob.mx/ConsultaRFC/'},\n",
       "      'name': 'JESUS ALBERTO ROSAS GARDUZA',\n",
       "      'roles': ['supplier']}],\n",
       "    'planning': {'budget': {'budgetBreakdown': [{'budgetclassifications': [{'Measures': [{'id': 'Aprobado',\n",
       "            'value': {'amount': 10000, 'currency': 'MXN'}}],\n",
       "          'classifications': 'financialSource',\n",
       "          'description': 'Recursos fiscales',\n",
       "          'id': '1',\n",
       "          'level': 1,\n",
       "          'levelLabel': 'Fuente de Financiamiento'},\n",
       "         {'Measures': [{'id': 'Aprobado',\n",
       "            'value': {'amount': 10000, 'currency': 'MXN'}}],\n",
       "          'classifications': 'Administrative',\n",
       "          'description': 'delegación SEDESOL en Tabasco',\n",
       "          'id': '20147',\n",
       "          'level': 2,\n",
       "          'levelLabel': 'Unidad Responsable'},\n",
       "         {'Measures': [{'id': 'Aprobado',\n",
       "            'value': {'amount': 10000, 'currency': 'MXN'}}],\n",
       "          'classifications': 'Economic',\n",
       "          'description': 'Mantenimiento Y Conservación de Mobiliario Y Equipo de Administración',\n",
       "          'id': '35201',\n",
       "          'level': 4,\n",
       "          'levelLabel': 'Partida Específica'}],\n",
       "        'description': 'Promoción y evaluación de la política de Desarrollo social y comunitario, la participación y la cohesión social',\n",
       "        'id': '20P002',\n",
       "        'url': 'http://nptp.hacienda.gob.mx/programas/jsp/programas/fichaPrograma.jsp?id=20P002'}]}},\n",
       "    'publisher': {'name': 'SECRETARÍA DE HACIENDA Y CRÉDITO PÚBLICO',\n",
       "     'uid': '00000',\n",
       "     'uri': 'http://www.gob.mx/shcp'},\n",
       "    'tag': ['compiled'],\n",
       "    'tender': {'id': '1038'}},\n",
       "   'ocid': 'ocds-07smqs-1038',\n",
       "   'releases': [{'ciclo': 2017,\n",
       "     'contracts': [{'awardID': '1038',\n",
       "       'buyers': [{'id': '20147', 'name': 'delegación SEDESOL en Tabasco'}],\n",
       "       'contractDetails': {'contractType': 'Abierto',\n",
       "        'maxValue': {'amount': 10387.8, 'currency': 'MXN'},\n",
       "        'minValue': {'amount': 10387.8, 'currency': 'MXN'},\n",
       "        'multiyear': False,\n",
       "        'originalCurrencyValue': {'amount': 10387.8,\n",
       "         'currency': 'MXN',\n",
       "         'exchangeRate': '1'},\n",
       "        'priceScheme': 'Variables'},\n",
       "       'dateSigned': '2017-06-27T00:00:00Z',\n",
       "       'id': '201720004247',\n",
       "       'implementation': {'budgetBreakdown': [{'budgetClassification': [{'classification': 'financialSource',\n",
       "            'description': 'Recursos fiscales',\n",
       "            'id': '1',\n",
       "            'levelId': 1,\n",
       "            'levelLabel': 'Fuente de Financiamiento',\n",
       "            'measures': [{'id': 'Comprometido',\n",
       "              'value': {'amount': 10387.8, 'currency': 'MXN'}},\n",
       "             {'id': 'Devengado',\n",
       "              'value': {'amount': 10387.8, 'currency': 'MXN'}},\n",
       "             {'id': 'Ejercido',\n",
       "              'value': {'amount': 10387.8, 'currency': 'MXN'}},\n",
       "             {'id': 'Pagado',\n",
       "              'value': {'amount': 10387.8, 'currency': 'MXN'}}]},\n",
       "           {'classification': 'Administrative',\n",
       "            'description': 'delegación SEDESOL en Tabasco',\n",
       "            'id': '20147',\n",
       "            'levelId': 2,\n",
       "            'levelLabel': 'Unidad Responsable',\n",
       "            'measures': [{'id': 'Comprometido',\n",
       "              'value': {'amount': 10387.8, 'currency': 'MXN'}},\n",
       "             {'id': 'Devengado',\n",
       "              'value': {'amount': 10387.8, 'currency': 'MXN'}},\n",
       "             {'id': 'Ejercido',\n",
       "              'value': {'amount': 10387.8, 'currency': 'MXN'}},\n",
       "             {'id': 'Pagado',\n",
       "              'value': {'amount': 10387.8, 'currency': 'MXN'}}]},\n",
       "           {'classification': 'Economic',\n",
       "            'description': 'Mantenimiento Y Conservación de Mobiliario Y Equipo de Administración',\n",
       "            'id': '35201',\n",
       "            'levelId': 4,\n",
       "            'levelLabel': 'Partida Específica',\n",
       "            'measures': [{'id': 'Comprometido',\n",
       "              'value': {'amount': 10387.8, 'currency': 'MXN'}},\n",
       "             {'id': 'Devengado',\n",
       "              'value': {'amount': 10387.8, 'currency': 'MXN'}},\n",
       "             {'id': 'Ejercido',\n",
       "              'value': {'amount': 10387.8, 'currency': 'MXN'}},\n",
       "             {'id': 'Pagado',\n",
       "              'value': {'amount': 10387.8, 'currency': 'MXN'}}]}],\n",
       "          'description': 'Promoción y evaluación de la política de Desarrollo social y comunitario, la participación y la cohesión social',\n",
       "          'id': '20P002',\n",
       "          'url': 'http://nptp.hacienda.gob.mx/programas/jsp/programas/fichaPrograma.jsp?id=20P002'}]},\n",
       "       'period': {'durationInDays': 1,\n",
       "        'endDate': '2017-06-28T23:59:59Z',\n",
       "        'startDate': '2017-06-27T00:00:00Z'},\n",
       "       'suppliers': [{'id': '95F5D7F5DD77D73E3232026B4732232A',\n",
       "         'name': 'JESUS ALBERTO ROSAS GARDUZA'}],\n",
       "       'title': 'PAGO FACT 25',\n",
       "       'valueWithTax': {'amount': 10387.8, 'currency': 'MXN'}}],\n",
       "     'date': '2018-02-26T20:04:52Z',\n",
       "     'id': '1038-shcp-20180226200452',\n",
       "     'initiationType': 'tender',\n",
       "     'language': 'es',\n",
       "     'ocid': 'ocds-07smqs-1038',\n",
       "     'parties': [{'additionalIdentifiers': [{'id': '20',\n",
       "         'legalName': 'Desarrollo Social',\n",
       "         'scheme': 'MX-CPA',\n",
       "         'schemeUrl': 'http://www.transparenciapresupuestaria.gob.mx/work/models/PTP/DatosAbiertos/Metadatos/catalogos_presupuestarios.xlsx'}],\n",
       "       'contactPoint': {'name': 'Gustavo Antonio Glori Tellechea'},\n",
       "       'id': '20147',\n",
       "       'identifier': {'id': '20147',\n",
       "        'legalName': 'delegación SEDESOL en Tabasco',\n",
       "        'scheme': 'MX-CPA',\n",
       "        'schemeUrl': 'http://www.transparenciapresupuestaria.gob.mx/work/models/PTP/DatosAbiertos/Metadatos/catalogos_presupuestarios.xlsx'},\n",
       "       'name': 'delegación SEDESOL en Tabasco',\n",
       "       'roles': ['buyer']},\n",
       "      {'contactPoint': {'name': 'JESUS A ROSAS GARDUZA'},\n",
       "       'id': '95F5D7F5DD77D73E3232026B4732232A',\n",
       "       'identifier': {'id': '95F5D7F5DD77D73E3232026B4732232A',\n",
       "        'legalName': 'JESUS ALBERTO ROSAS GARDUZA',\n",
       "        'scheme': 'MX-RFC',\n",
       "        'schemeUrl': 'https://portalsat.plataforma.sat.gob.mx/ConsultaRFC/'},\n",
       "       'name': 'JESUS ALBERTO ROSAS GARDUZA',\n",
       "       'roles': ['supplier']}],\n",
       "     'planning': {'budget': {'budgetBreakdown': [{'budgetclassifications': [{'Measures': [{'id': 'Aprobado',\n",
       "             'value': {'amount': 10000, 'currency': 'MXN'}}],\n",
       "           'classifications': 'financialSource',\n",
       "           'description': 'Recursos fiscales',\n",
       "           'id': '1',\n",
       "           'level': 1,\n",
       "           'levelLabel': 'Fuente de Financiamiento'},\n",
       "          {'Measures': [{'id': 'Aprobado',\n",
       "             'value': {'amount': 10000, 'currency': 'MXN'}}],\n",
       "           'classifications': 'Administrative',\n",
       "           'description': 'delegación SEDESOL en Tabasco',\n",
       "           'id': '20147',\n",
       "           'level': 2,\n",
       "           'levelLabel': 'Unidad Responsable'},\n",
       "          {'Measures': [{'id': 'Aprobado',\n",
       "             'value': {'amount': 10000, 'currency': 'MXN'}}],\n",
       "           'classifications': 'Economic',\n",
       "           'description': 'Mantenimiento Y Conservación de Mobiliario Y Equipo de Administración',\n",
       "           'id': '35201',\n",
       "           'level': 4,\n",
       "           'levelLabel': 'Partida Específica'}],\n",
       "         'description': 'Promoción y evaluación de la política de Desarrollo social y comunitario, la participación y la cohesión social',\n",
       "         'id': '20P002',\n",
       "         'url': 'http://nptp.hacienda.gob.mx/programas/jsp/programas/fichaPrograma.jsp?id=20P002'}]}},\n",
       "     'publisher': {'name': 'SECRETARÍA DE HACIENDA Y CRÉDITO PÚBLICO',\n",
       "      'uid': '00000',\n",
       "      'uri': 'http://www.gob.mx/shcp'},\n",
       "     'tag': ['contract'],\n",
       "     'tender': {'id': '1038'}}]}],\n",
       " 'uri': 'https://api.datos.gob.mx/v1/',\n",
       " 'version': '1.1'}"
      ]
     },
     "execution_count": 75,
     "metadata": {},
     "output_type": "execute_result"
    }
   ],
   "source": [
    "contrataciones[0]"
   ]
  },
  {
   "cell_type": "code",
   "execution_count": null,
   "metadata": {},
   "outputs": [],
   "source": []
  },
  {
   "cell_type": "code",
   "execution_count": null,
   "metadata": {},
   "outputs": [],
   "source": []
  },
  {
   "cell_type": "code",
   "execution_count": null,
   "metadata": {},
   "outputs": [],
   "source": []
  }
 ],
 "metadata": {
  "kernelspec": {
   "display_name": "Python 3",
   "language": "python",
   "name": "python3"
  },
  "language_info": {
   "codemirror_mode": {
    "name": "ipython",
    "version": 3
   },
   "file_extension": ".py",
   "mimetype": "text/x-python",
   "name": "python",
   "nbconvert_exporter": "python",
   "pygments_lexer": "ipython3",
   "version": "3.6.3"
  }
 },
 "nbformat": 4,
 "nbformat_minor": 2
}
