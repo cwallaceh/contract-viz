{
 "cells": [
  {
   "cell_type": "code",
   "execution_count": 1,
   "metadata": {},
   "outputs": [],
   "source": [
    "import json\n",
    "import pandas as pd"
   ]
  },
  {
   "cell_type": "code",
   "execution_count": 2,
   "metadata": {},
   "outputs": [],
   "source": [
    "contrataciones = json.load(open(\"contratacionesabiertas_bulk.json\", \"rb\"))"
   ]
  },
  {
   "cell_type": "code",
   "execution_count": 3,
   "metadata": {},
   "outputs": [
    {
     "data": {
      "text/plain": [
       "52935"
      ]
     },
     "execution_count": 3,
     "metadata": {},
     "output_type": "execute_result"
    }
   ],
   "source": [
    "len(contrataciones)"
   ]
  },
  {
   "cell_type": "code",
   "execution_count": 4,
   "metadata": {},
   "outputs": [
    {
     "data": {
      "text/plain": [
       "dict_keys(['_id', 'uri', 'version', 'extensions', 'license', 'publishedDate', 'publisher', 'records'])"
      ]
     },
     "execution_count": 4,
     "metadata": {},
     "output_type": "execute_result"
    }
   ],
   "source": [
    "contrataciones[0].keys()"
   ]
  },
  {
   "cell_type": "code",
   "execution_count": 5,
   "metadata": {},
   "outputs": [
    {
     "data": {
      "text/plain": [
       "dict_keys(['ocid', 'releases', 'compiledRelease'])"
      ]
     },
     "execution_count": 5,
     "metadata": {},
     "output_type": "execute_result"
    }
   ],
   "source": [
    "contrataciones[0]['records'][0].keys()"
   ]
  },
  {
   "cell_type": "code",
   "execution_count": 6,
   "metadata": {},
   "outputs": [
    {
     "data": {
      "text/plain": [
       "dict_keys(['tag', 'ciclo', 'date', 'id', 'initiationType', 'language', 'ocid', 'publisher', 'tender', 'contracts', 'parties', 'planning'])"
      ]
     },
     "execution_count": 6,
     "metadata": {},
     "output_type": "execute_result"
    }
   ],
   "source": [
    "contrataciones[0]['records'][0]['compiledRelease'].keys()"
   ]
  },
  {
   "cell_type": "code",
   "execution_count": 7,
   "metadata": {},
   "outputs": [],
   "source": [
    "part = contrataciones[0]['records'][0]['compiledRelease']['parties'][0]"
   ]
  },
  {
   "cell_type": "code",
   "execution_count": 14,
   "metadata": {},
   "outputs": [
    {
     "data": {
      "text/plain": [
       "10387.8"
      ]
     },
     "execution_count": 14,
     "metadata": {},
     "output_type": "execute_result"
    }
   ],
   "source": [
    "contrataciones[0]['records'][0]['compiledRelease']['contracts'][0][\"valueWithTax\"]['amount']"
   ]
  },
  {
   "cell_type": "markdown",
   "metadata": {},
   "source": [
    "## Buyers/Suppliers"
   ]
  },
  {
   "cell_type": "code",
   "execution_count": 44,
   "metadata": {},
   "outputs": [],
   "source": [
    "contract = {}\n",
    "i = 0\n",
    "for element in contrataciones:\n",
    "    buyers = []\n",
    "    suppliers = []\n",
    "    contract[i] = {}\n",
    "    contract_value = 0\n",
    "    for part in element['records'][0]['compiledRelease']['parties']:\n",
    "        if 'buyer' in part['roles']:\n",
    "            buyers.append(part['name'])\n",
    "        elif 'supplier' in part['roles']:\n",
    "            suppliers.append(part['name'])\n",
    "        else:\n",
    "            pass\n",
    "    try:\n",
    "        for contrato in element['records'][0]['compiledRelease']['contracts']:\n",
    "            try:\n",
    "                contract_value += contrato[\"valueWithTax\"]['amount']\n",
    "            except:\n",
    "                contract_value += 0\n",
    "    except:\n",
    "        contract_value = 0\n",
    "    contract[i]['buyers'] = buyers\n",
    "    contract[i]['suppliers'] = suppliers\n",
    "    contract[i]['contract_value'] = contract_value\n",
    "    i += 1"
   ]
  },
  {
   "cell_type": "code",
   "execution_count": 45,
   "metadata": {},
   "outputs": [],
   "source": [
    "df = pd.DataFrame.from_dict(contract).T"
   ]
  },
  {
   "cell_type": "code",
   "execution_count": 47,
   "metadata": {},
   "outputs": [
    {
     "data": {
      "text/html": [
       "<div>\n",
       "<style scoped>\n",
       "    .dataframe tbody tr th:only-of-type {\n",
       "        vertical-align: middle;\n",
       "    }\n",
       "\n",
       "    .dataframe tbody tr th {\n",
       "        vertical-align: top;\n",
       "    }\n",
       "\n",
       "    .dataframe thead th {\n",
       "        text-align: right;\n",
       "    }\n",
       "</style>\n",
       "<table border=\"1\" class=\"dataframe\">\n",
       "  <thead>\n",
       "    <tr style=\"text-align: right;\">\n",
       "      <th></th>\n",
       "      <th>buyers</th>\n",
       "      <th>contract_value</th>\n",
       "      <th>suppliers</th>\n",
       "    </tr>\n",
       "  </thead>\n",
       "  <tbody>\n",
       "    <tr>\n",
       "      <th>0</th>\n",
       "      <td>[delegación SEDESOL en Tabasco]</td>\n",
       "      <td>10387.8</td>\n",
       "      <td>[JESUS ALBERTO ROSAS GARDUZA]</td>\n",
       "    </tr>\n",
       "    <tr>\n",
       "      <th>1</th>\n",
       "      <td>[delegación SEDESOL en México]</td>\n",
       "      <td>739388</td>\n",
       "      <td>[SECRETARIA DE DESARROLLO SOCIAL DELEGACION ES...</td>\n",
       "    </tr>\n",
       "    <tr>\n",
       "      <th>2</th>\n",
       "      <td>[delegación SEDESOL en Tabasco]</td>\n",
       "      <td>1072</td>\n",
       "      <td>[SECRETARIA DE DESARROLLO SOCIAL DELEGACION TA...</td>\n",
       "    </tr>\n",
       "    <tr>\n",
       "      <th>3</th>\n",
       "      <td>[delegación SEDESOL en Tabasco]</td>\n",
       "      <td>109620</td>\n",
       "      <td>[SERVISEG S.A. DE C.V.]</td>\n",
       "    </tr>\n",
       "    <tr>\n",
       "      <th>4</th>\n",
       "      <td>[delegación SEDESOL en Tabasco]</td>\n",
       "      <td>1109.9</td>\n",
       "      <td>[COMERCIALIZADORA COMPUTEL DEL SURESTE  S.A. D...</td>\n",
       "    </tr>\n",
       "  </tbody>\n",
       "</table>\n",
       "</div>"
      ],
      "text/plain": [
       "                            buyers contract_value  \\\n",
       "0  [delegación SEDESOL en Tabasco]        10387.8   \n",
       "1   [delegación SEDESOL en México]         739388   \n",
       "2  [delegación SEDESOL en Tabasco]           1072   \n",
       "3  [delegación SEDESOL en Tabasco]         109620   \n",
       "4  [delegación SEDESOL en Tabasco]         1109.9   \n",
       "\n",
       "                                           suppliers  \n",
       "0                      [JESUS ALBERTO ROSAS GARDUZA]  \n",
       "1  [SECRETARIA DE DESARROLLO SOCIAL DELEGACION ES...  \n",
       "2  [SECRETARIA DE DESARROLLO SOCIAL DELEGACION TA...  \n",
       "3                            [SERVISEG S.A. DE C.V.]  \n",
       "4  [COMERCIALIZADORA COMPUTEL DEL SURESTE  S.A. D...  "
      ]
     },
     "execution_count": 47,
     "metadata": {},
     "output_type": "execute_result"
    }
   ],
   "source": [
    "df.head()"
   ]
  },
  {
   "cell_type": "code",
   "execution_count": 48,
   "metadata": {},
   "outputs": [],
   "source": [
    "df['len_buyers'] = df[\"buyers\"].apply(len)\n",
    "df['len_suppliers'] = df[\"suppliers\"].apply(len)"
   ]
  },
  {
   "cell_type": "code",
   "execution_count": 49,
   "metadata": {},
   "outputs": [
    {
     "data": {
      "text/plain": [
       "52935"
      ]
     },
     "execution_count": 49,
     "metadata": {},
     "output_type": "execute_result"
    }
   ],
   "source": [
    "len(df)"
   ]
  },
  {
   "cell_type": "code",
   "execution_count": 50,
   "metadata": {},
   "outputs": [],
   "source": [
    "df = df[(df['len_buyers'] == 1) & (df[\"len_suppliers\"] == 1)]"
   ]
  },
  {
   "cell_type": "code",
   "execution_count": 51,
   "metadata": {},
   "outputs": [],
   "source": [
    "del df['len_buyers']\n",
    "del df[\"len_suppliers\"]"
   ]
  },
  {
   "cell_type": "code",
   "execution_count": 52,
   "metadata": {},
   "outputs": [],
   "source": [
    "df['buyers'] = df['buyers'].apply(lambda x: x[0])\n",
    "df['suppliers'] = df['suppliers'].apply(lambda x: x[0])"
   ]
  },
  {
   "cell_type": "code",
   "execution_count": 53,
   "metadata": {},
   "outputs": [
    {
     "data": {
      "text/html": [
       "<div>\n",
       "<style scoped>\n",
       "    .dataframe tbody tr th:only-of-type {\n",
       "        vertical-align: middle;\n",
       "    }\n",
       "\n",
       "    .dataframe tbody tr th {\n",
       "        vertical-align: top;\n",
       "    }\n",
       "\n",
       "    .dataframe thead th {\n",
       "        text-align: right;\n",
       "    }\n",
       "</style>\n",
       "<table border=\"1\" class=\"dataframe\">\n",
       "  <thead>\n",
       "    <tr style=\"text-align: right;\">\n",
       "      <th></th>\n",
       "      <th>buyers</th>\n",
       "      <th>contract_value</th>\n",
       "      <th>suppliers</th>\n",
       "    </tr>\n",
       "  </thead>\n",
       "  <tbody>\n",
       "    <tr>\n",
       "      <th>0</th>\n",
       "      <td>delegación SEDESOL en Tabasco</td>\n",
       "      <td>10387.8</td>\n",
       "      <td>JESUS ALBERTO ROSAS GARDUZA</td>\n",
       "    </tr>\n",
       "    <tr>\n",
       "      <th>1</th>\n",
       "      <td>delegación SEDESOL en México</td>\n",
       "      <td>739388</td>\n",
       "      <td>SECRETARIA DE DESARROLLO SOCIAL DELEGACION EST...</td>\n",
       "    </tr>\n",
       "    <tr>\n",
       "      <th>2</th>\n",
       "      <td>delegación SEDESOL en Tabasco</td>\n",
       "      <td>1072</td>\n",
       "      <td>SECRETARIA DE DESARROLLO SOCIAL DELEGACION TAB...</td>\n",
       "    </tr>\n",
       "    <tr>\n",
       "      <th>3</th>\n",
       "      <td>delegación SEDESOL en Tabasco</td>\n",
       "      <td>109620</td>\n",
       "      <td>SERVISEG S.A. DE C.V.</td>\n",
       "    </tr>\n",
       "    <tr>\n",
       "      <th>4</th>\n",
       "      <td>delegación SEDESOL en Tabasco</td>\n",
       "      <td>1109.9</td>\n",
       "      <td>COMERCIALIZADORA COMPUTEL DEL SURESTE  S.A. DE...</td>\n",
       "    </tr>\n",
       "  </tbody>\n",
       "</table>\n",
       "</div>"
      ],
      "text/plain": [
       "                          buyers contract_value  \\\n",
       "0  delegación SEDESOL en Tabasco        10387.8   \n",
       "1   delegación SEDESOL en México         739388   \n",
       "2  delegación SEDESOL en Tabasco           1072   \n",
       "3  delegación SEDESOL en Tabasco         109620   \n",
       "4  delegación SEDESOL en Tabasco         1109.9   \n",
       "\n",
       "                                           suppliers  \n",
       "0                        JESUS ALBERTO ROSAS GARDUZA  \n",
       "1  SECRETARIA DE DESARROLLO SOCIAL DELEGACION EST...  \n",
       "2  SECRETARIA DE DESARROLLO SOCIAL DELEGACION TAB...  \n",
       "3                              SERVISEG S.A. DE C.V.  \n",
       "4  COMERCIALIZADORA COMPUTEL DEL SURESTE  S.A. DE...  "
      ]
     },
     "execution_count": 53,
     "metadata": {},
     "output_type": "execute_result"
    }
   ],
   "source": [
    "df.head()"
   ]
  },
  {
   "cell_type": "code",
   "execution_count": 55,
   "metadata": {},
   "outputs": [],
   "source": [
    "df.to_csv('buyers_suppliers.csv')"
   ]
  },
  {
   "cell_type": "code",
   "execution_count": 57,
   "metadata": {},
   "outputs": [],
   "source": [
    "text_file = open(\"contribuyentes_inexistentes.txt\", \"r\")\n",
    "contribuyentes_inexistentes = text_file.read().split('\\n')"
   ]
  },
  {
   "cell_type": "code",
   "execution_count": 59,
   "metadata": {},
   "outputs": [],
   "source": [
    "from difflib import SequenceMatcher\n",
    "\n",
    "def similar(a, b):\n",
    "    return SequenceMatcher(None, a, b).ratio()"
   ]
  },
  {
   "cell_type": "code",
   "execution_count": 60,
   "metadata": {},
   "outputs": [],
   "source": [
    "most_similar = []\n",
    "similarity = []\n",
    "for index, row in df.iterrows():\n",
    "    temp = {}\n",
    "    for contribuyente in contribuyentes_inexistentes:\n",
    "        temp[contribuyente] = similar(contribuyente, row[\"suppliers\"])\n",
    "    most_similar.append(max(temp, key=temp.get))\n",
    "    similarity.append(temp[max(temp)])"
   ]
  },
  {
   "cell_type": "code",
   "execution_count": 61,
   "metadata": {},
   "outputs": [],
   "source": [
    "df[\"most_similar\"] = most_similar\n",
    "df[\"similarity\"] = similarity"
   ]
  },
  {
   "cell_type": "code",
   "execution_count": 76,
   "metadata": {},
   "outputs": [
    {
     "data": {
      "text/html": [
       "<div>\n",
       "<style scoped>\n",
       "    .dataframe tbody tr th:only-of-type {\n",
       "        vertical-align: middle;\n",
       "    }\n",
       "\n",
       "    .dataframe tbody tr th {\n",
       "        vertical-align: top;\n",
       "    }\n",
       "\n",
       "    .dataframe thead th {\n",
       "        text-align: right;\n",
       "    }\n",
       "</style>\n",
       "<table border=\"1\" class=\"dataframe\">\n",
       "  <thead>\n",
       "    <tr style=\"text-align: right;\">\n",
       "      <th></th>\n",
       "      <th>buyers</th>\n",
       "      <th>contract_value</th>\n",
       "      <th>suppliers</th>\n",
       "      <th>most_similar</th>\n",
       "      <th>similarity</th>\n",
       "    </tr>\n",
       "  </thead>\n",
       "  <tbody>\n",
       "    <tr>\n",
       "      <th>0</th>\n",
       "      <td>delegación SEDESOL en Tabasco</td>\n",
       "      <td>10387.8</td>\n",
       "      <td>JESUS ALBERTO ROSAS GARDUZA</td>\n",
       "      <td>GURROLA ROMERO KARLA</td>\n",
       "      <td>0.217391</td>\n",
       "    </tr>\n",
       "    <tr>\n",
       "      <th>1</th>\n",
       "      <td>delegación SEDESOL en México</td>\n",
       "      <td>739388</td>\n",
       "      <td>SECRETARIA DE DESARROLLO SOCIAL DELEGACION EST...</td>\n",
       "      <td>DESARROLLO DE NEGOCIOS DEL GOLFO, S.A. DE CV.</td>\n",
       "      <td>0.256410</td>\n",
       "    </tr>\n",
       "    <tr>\n",
       "      <th>2</th>\n",
       "      <td>delegación SEDESOL en Tabasco</td>\n",
       "      <td>1072</td>\n",
       "      <td>SECRETARIA DE DESARROLLO SOCIAL DELEGACION TAB...</td>\n",
       "      <td>CONSTRUCTORA Y DESARROLLADORA UNIDA JOMAR, S.A...</td>\n",
       "      <td>0.260870</td>\n",
       "    </tr>\n",
       "    <tr>\n",
       "      <th>3</th>\n",
       "      <td>delegación SEDESOL en Tabasco</td>\n",
       "      <td>109620</td>\n",
       "      <td>SERVISEG S.A. DE C.V.</td>\n",
       "      <td>DAJIDE, S.A. DE CV.</td>\n",
       "      <td>0.250000</td>\n",
       "    </tr>\n",
       "    <tr>\n",
       "      <th>4</th>\n",
       "      <td>delegación SEDESOL en Tabasco</td>\n",
       "      <td>1109.9</td>\n",
       "      <td>COMERCIALIZADORA COMPUTEL DEL SURESTE  S.A. DE...</td>\n",
       "      <td>COMERCIALIZADORA COMAPELE, S.A. DE CV.</td>\n",
       "      <td>0.171429</td>\n",
       "    </tr>\n",
       "  </tbody>\n",
       "</table>\n",
       "</div>"
      ],
      "text/plain": [
       "                          buyers contract_value  \\\n",
       "0  delegación SEDESOL en Tabasco        10387.8   \n",
       "1   delegación SEDESOL en México         739388   \n",
       "2  delegación SEDESOL en Tabasco           1072   \n",
       "3  delegación SEDESOL en Tabasco         109620   \n",
       "4  delegación SEDESOL en Tabasco         1109.9   \n",
       "\n",
       "                                           suppliers  \\\n",
       "0                        JESUS ALBERTO ROSAS GARDUZA   \n",
       "1  SECRETARIA DE DESARROLLO SOCIAL DELEGACION EST...   \n",
       "2  SECRETARIA DE DESARROLLO SOCIAL DELEGACION TAB...   \n",
       "3                              SERVISEG S.A. DE C.V.   \n",
       "4  COMERCIALIZADORA COMPUTEL DEL SURESTE  S.A. DE...   \n",
       "\n",
       "                                        most_similar  similarity  \n",
       "0                               GURROLA ROMERO KARLA    0.217391  \n",
       "1      DESARROLLO DE NEGOCIOS DEL GOLFO, S.A. DE CV.    0.256410  \n",
       "2  CONSTRUCTORA Y DESARROLLADORA UNIDA JOMAR, S.A...    0.260870  \n",
       "3                                DAJIDE, S.A. DE CV.    0.250000  \n",
       "4             COMERCIALIZADORA COMAPELE, S.A. DE CV.    0.171429  "
      ]
     },
     "execution_count": 76,
     "metadata": {},
     "output_type": "execute_result"
    }
   ],
   "source": [
    "df.head()"
   ]
  }
 ],
 "metadata": {
  "kernelspec": {
   "display_name": "Python 3",
   "language": "python",
   "name": "python3"
  },
  "language_info": {
   "codemirror_mode": {
    "name": "ipython",
    "version": 3
   },
   "file_extension": ".py",
   "mimetype": "text/x-python",
   "name": "python",
   "nbconvert_exporter": "python",
   "pygments_lexer": "ipython3",
   "version": "3.6.3"
  }
 },
 "nbformat": 4,
 "nbformat_minor": 2
}
